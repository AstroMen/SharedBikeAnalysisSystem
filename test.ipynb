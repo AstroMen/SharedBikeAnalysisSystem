{
 "cells": [
  {
   "cell_type": "code",
   "execution_count": 3,
   "id": "db6c6a97",
   "metadata": {},
   "outputs": [],
   "source": [
    "import pandas as pd\n",
    "import numpy as np\n",
    "import matplotlib.pyplot as plt\n",
    "import seaborn as sns\n",
    "from scipy import stats\n",
    "from datetime import datetime\n",
    "import warnings\n",
    "warnings.filterwarnings('ignore')\n",
    "%matplotlib inline\n",
    "\n",
    "from cluster_util.spark_util import SparkUtil\n",
    "from cluster_util.hive_util import HiveUtil"
   ]
  },
  {
   "cell_type": "markdown",
   "id": "55cc5fe5",
   "metadata": {},
   "source": [
    "## Init spark"
   ]
  },
  {
   "cell_type": "code",
   "execution_count": 8,
   "id": "e86b8efe",
   "metadata": {},
   "outputs": [
    {
     "name": "stderr",
     "output_type": "stream",
     "text": [
      "2021-11-24 16:14:29,050\tFile \"spark_util.py\", line 25\tINFO: Build spark session ...\n",
      "WARNING: An illegal reflective access operation has occurred\n",
      "WARNING: Illegal reflective access by org.apache.spark.unsafe.Platform (file:/Users/luyao/Workspace/PycharmProjects/SharedBikeAnalysisProject/venv/lib/python3.8/site-packages/pyspark/jars/spark-unsafe_2.12-3.2.0.jar) to constructor java.nio.DirectByteBuffer(long,int)\n",
      "WARNING: Please consider reporting this to the maintainers of org.apache.spark.unsafe.Platform\n",
      "WARNING: Use --illegal-access=warn to enable warnings of further illegal reflective access operations\n",
      "WARNING: All illegal access operations will be denied in a future release\n",
      "Using Spark's default log4j profile: org/apache/spark/log4j-defaults.properties\n",
      "Setting default log level to \"WARN\".\n",
      "To adjust logging level use sc.setLogLevel(newLevel). For SparkR, use setLogLevel(newLevel).\n",
      "21/11/24 16:14:31 WARN NativeCodeLoader: Unable to load native-hadoop library for your platform... using builtin-java classes where applicable\n"
     ]
    }
   ],
   "source": [
    "spark = SparkUtil().build_spark_session(app_name=\"Shared Bike Analysis System notebook\")"
   ]
  },
  {
   "cell_type": "code",
   "execution_count": 9,
   "id": "dd9f1516",
   "metadata": {},
   "outputs": [
    {
     "name": "stdout",
     "output_type": "stream",
     "text": [
      "+----------+\n",
      "| namespace|\n",
      "+----------+\n",
      "|   default|\n",
      "|sharedbike|\n",
      "+----------+\n",
      "\n"
     ]
    }
   ],
   "source": [
    "spark.sql('show databases').show()"
   ]
  },
  {
   "cell_type": "code",
   "execution_count": 10,
   "id": "e5174770",
   "metadata": {},
   "outputs": [
    {
     "name": "stderr",
     "output_type": "stream",
     "text": [
      "\r",
      "[Stage 0:>                                                          (0 + 0) / 1]\r",
      "\r",
      "                                                                                \r"
     ]
    },
    {
     "name": "stdout",
     "output_type": "stream",
     "text": [
      "+----------+------------+-----------+\n",
      "| namespace|   tableName|isTemporary|\n",
      "+----------+------------+-----------+\n",
      "|sharedbike|trip_details|      false|\n",
      "+----------+------------+-----------+\n",
      "\n"
     ]
    }
   ],
   "source": [
    "spark.sql('use sharedbike')\n",
    "spark.sql('show tables').show()"
   ]
  },
  {
   "cell_type": "code",
   "execution_count": 11,
   "id": "dd601344",
   "metadata": {},
   "outputs": [],
   "source": [
    "ptd = \"2021\"\n",
    "desc_list_names = ['duration', 'start_lat', 'start_lon', 'end_lat', 'end_lon', 'plan_duration',  'trip_route_type',\n",
    "                               'passholder_type', 'bike_type', 'distance', 'season', 'holiday', 'workingday']\n",
    "df_by_year = spark.sql('select {} from trip_details where ptd={};'.format(','.join(desc_list_names), ptd))"
   ]
  },
  {
   "cell_type": "code",
   "execution_count": 12,
   "id": "0a1c4cb9",
   "metadata": {},
   "outputs": [
    {
     "name": "stderr",
     "output_type": "stream",
     "text": [
      "\r",
      "[Stage 1:>                                                          (0 + 7) / 7]\r",
      "\r",
      "                                                                                \r"
     ]
    },
    {
     "data": {
      "text/html": [
       "<div>\n",
       "<style scoped>\n",
       "    .dataframe tbody tr th:only-of-type {\n",
       "        vertical-align: middle;\n",
       "    }\n",
       "\n",
       "    .dataframe tbody tr th {\n",
       "        vertical-align: top;\n",
       "    }\n",
       "\n",
       "    .dataframe thead th {\n",
       "        text-align: right;\n",
       "    }\n",
       "</style>\n",
       "<table border=\"1\" class=\"dataframe\">\n",
       "  <thead>\n",
       "    <tr style=\"text-align: right;\">\n",
       "      <th></th>\n",
       "      <th>count</th>\n",
       "      <th>mean</th>\n",
       "      <th>std</th>\n",
       "      <th>min</th>\n",
       "      <th>25%</th>\n",
       "      <th>50%</th>\n",
       "      <th>75%</th>\n",
       "      <th>max</th>\n",
       "    </tr>\n",
       "  </thead>\n",
       "  <tbody>\n",
       "    <tr>\n",
       "      <th>duration</th>\n",
       "      <td>153989.0</td>\n",
       "      <td>41.147673</td>\n",
       "      <td>98.049854</td>\n",
       "      <td>1.000000</td>\n",
       "      <td>9.000000</td>\n",
       "      <td>19.000000</td>\n",
       "      <td>37.000000</td>\n",
       "      <td>1440.000000</td>\n",
       "    </tr>\n",
       "    <tr>\n",
       "      <th>start_lat</th>\n",
       "      <td>153989.0</td>\n",
       "      <td>34.029836</td>\n",
       "      <td>0.038370</td>\n",
       "      <td>33.928459</td>\n",
       "      <td>33.996239</td>\n",
       "      <td>34.038609</td>\n",
       "      <td>34.050880</td>\n",
       "      <td>34.186569</td>\n",
       "    </tr>\n",
       "    <tr>\n",
       "      <th>start_lon</th>\n",
       "      <td>153989.0</td>\n",
       "      <td>-118.345096</td>\n",
       "      <td>0.096136</td>\n",
       "      <td>-118.491341</td>\n",
       "      <td>-118.451248</td>\n",
       "      <td>-118.291496</td>\n",
       "      <td>-118.258537</td>\n",
       "      <td>-118.225410</td>\n",
       "    </tr>\n",
       "    <tr>\n",
       "      <th>end_lat</th>\n",
       "      <td>153989.0</td>\n",
       "      <td>34.029810</td>\n",
       "      <td>0.038001</td>\n",
       "      <td>33.928459</td>\n",
       "      <td>33.998341</td>\n",
       "      <td>34.037460</td>\n",
       "      <td>34.050480</td>\n",
       "      <td>34.186569</td>\n",
       "    </tr>\n",
       "    <tr>\n",
       "      <th>end_lon</th>\n",
       "      <td>153989.0</td>\n",
       "      <td>-118.345834</td>\n",
       "      <td>0.096722</td>\n",
       "      <td>-118.491341</td>\n",
       "      <td>-118.451248</td>\n",
       "      <td>-118.291718</td>\n",
       "      <td>-118.258537</td>\n",
       "      <td>-118.225410</td>\n",
       "    </tr>\n",
       "    <tr>\n",
       "      <th>plan_duration</th>\n",
       "      <td>153989.0</td>\n",
       "      <td>48.578457</td>\n",
       "      <td>102.870918</td>\n",
       "      <td>1.000000</td>\n",
       "      <td>1.000000</td>\n",
       "      <td>30.000000</td>\n",
       "      <td>30.000000</td>\n",
       "      <td>999.000000</td>\n",
       "    </tr>\n",
       "    <tr>\n",
       "      <th>trip_route_type</th>\n",
       "      <td>153989.0</td>\n",
       "      <td>1.243537</td>\n",
       "      <td>0.429218</td>\n",
       "      <td>1.000000</td>\n",
       "      <td>1.000000</td>\n",
       "      <td>1.000000</td>\n",
       "      <td>1.000000</td>\n",
       "      <td>2.000000</td>\n",
       "    </tr>\n",
       "    <tr>\n",
       "      <th>passholder_type</th>\n",
       "      <td>153988.0</td>\n",
       "      <td>2.317849</td>\n",
       "      <td>1.024294</td>\n",
       "      <td>1.000000</td>\n",
       "      <td>1.000000</td>\n",
       "      <td>3.000000</td>\n",
       "      <td>3.000000</td>\n",
       "      <td>4.000000</td>\n",
       "    </tr>\n",
       "    <tr>\n",
       "      <th>bike_type</th>\n",
       "      <td>153989.0</td>\n",
       "      <td>1.278773</td>\n",
       "      <td>0.471785</td>\n",
       "      <td>1.000000</td>\n",
       "      <td>1.000000</td>\n",
       "      <td>1.000000</td>\n",
       "      <td>2.000000</td>\n",
       "      <td>3.000000</td>\n",
       "    </tr>\n",
       "    <tr>\n",
       "      <th>distance</th>\n",
       "      <td>153989.0</td>\n",
       "      <td>29.592955</td>\n",
       "      <td>35.449078</td>\n",
       "      <td>0.000000</td>\n",
       "      <td>4.025301</td>\n",
       "      <td>20.554560</td>\n",
       "      <td>41.013824</td>\n",
       "      <td>517.316467</td>\n",
       "    </tr>\n",
       "    <tr>\n",
       "      <th>season</th>\n",
       "      <td>153989.0</td>\n",
       "      <td>2.232478</td>\n",
       "      <td>0.831939</td>\n",
       "      <td>1.000000</td>\n",
       "      <td>2.000000</td>\n",
       "      <td>2.000000</td>\n",
       "      <td>3.000000</td>\n",
       "      <td>4.000000</td>\n",
       "    </tr>\n",
       "    <tr>\n",
       "      <th>holiday</th>\n",
       "      <td>153989.0</td>\n",
       "      <td>0.034710</td>\n",
       "      <td>0.183046</td>\n",
       "      <td>0.000000</td>\n",
       "      <td>0.000000</td>\n",
       "      <td>0.000000</td>\n",
       "      <td>0.000000</td>\n",
       "      <td>1.000000</td>\n",
       "    </tr>\n",
       "    <tr>\n",
       "      <th>workingday</th>\n",
       "      <td>153989.0</td>\n",
       "      <td>0.637623</td>\n",
       "      <td>0.480688</td>\n",
       "      <td>0.000000</td>\n",
       "      <td>0.000000</td>\n",
       "      <td>1.000000</td>\n",
       "      <td>1.000000</td>\n",
       "      <td>1.000000</td>\n",
       "    </tr>\n",
       "  </tbody>\n",
       "</table>\n",
       "</div>"
      ],
      "text/plain": [
       "                    count        mean         std         min         25%  \\\n",
       "duration         153989.0   41.147673   98.049854    1.000000    9.000000   \n",
       "start_lat        153989.0   34.029836    0.038370   33.928459   33.996239   \n",
       "start_lon        153989.0 -118.345096    0.096136 -118.491341 -118.451248   \n",
       "end_lat          153989.0   34.029810    0.038001   33.928459   33.998341   \n",
       "end_lon          153989.0 -118.345834    0.096722 -118.491341 -118.451248   \n",
       "plan_duration    153989.0   48.578457  102.870918    1.000000    1.000000   \n",
       "trip_route_type  153989.0    1.243537    0.429218    1.000000    1.000000   \n",
       "passholder_type  153988.0    2.317849    1.024294    1.000000    1.000000   \n",
       "bike_type        153989.0    1.278773    0.471785    1.000000    1.000000   \n",
       "distance         153989.0   29.592955   35.449078    0.000000    4.025301   \n",
       "season           153989.0    2.232478    0.831939    1.000000    2.000000   \n",
       "holiday          153989.0    0.034710    0.183046    0.000000    0.000000   \n",
       "workingday       153989.0    0.637623    0.480688    0.000000    0.000000   \n",
       "\n",
       "                        50%         75%          max  \n",
       "duration          19.000000   37.000000  1440.000000  \n",
       "start_lat         34.038609   34.050880    34.186569  \n",
       "start_lon       -118.291496 -118.258537  -118.225410  \n",
       "end_lat           34.037460   34.050480    34.186569  \n",
       "end_lon         -118.291718 -118.258537  -118.225410  \n",
       "plan_duration     30.000000   30.000000   999.000000  \n",
       "trip_route_type    1.000000    1.000000     2.000000  \n",
       "passholder_type    3.000000    3.000000     4.000000  \n",
       "bike_type          1.000000    2.000000     3.000000  \n",
       "distance          20.554560   41.013824   517.316467  \n",
       "season             2.000000    3.000000     4.000000  \n",
       "holiday            0.000000    0.000000     1.000000  \n",
       "workingday         1.000000    1.000000     1.000000  "
      ]
     },
     "execution_count": 12,
     "metadata": {},
     "output_type": "execute_result"
    }
   ],
   "source": [
    "df_by_year.toPandas().describe().T"
   ]
  },
  {
   "cell_type": "code",
   "execution_count": 55,
   "id": "1bd20aff",
   "metadata": {},
   "outputs": [],
   "source": [
    "spark.stop()"
   ]
  },
  {
   "cell_type": "markdown",
   "id": "6fab69b5",
   "metadata": {},
   "source": [
    "## Feature analysis"
   ]
  },
  {
   "cell_type": "code",
   "execution_count": 1,
   "id": "145bd9ac",
   "metadata": {},
   "outputs": [
    {
     "name": "stdout",
     "output_type": "stream",
     "text": [
      "part-00000-5bca49a6-a926-49c6-9efe-70f95e20f345-c000.csv\n"
     ]
    }
   ],
   "source": [
    "# Get file name automatically\n",
    "from common.file_utils import FileUtils\n",
    "trip_details_file_name = None\n",
    "files_name = FileUtils.get_file_list_under_dir('results/trip_details/')\n",
    "for i in files_name:\n",
    "    if '.csv' in i:\n",
    "        trip_details_file_name = i[1:]\n",
    "        break\n",
    "print(trip_details_file_name)"
   ]
  },
  {
   "cell_type": "code",
   "execution_count": 4,
   "id": "a545b4fb",
   "metadata": {},
   "outputs": [
    {
     "data": {
      "text/plain": [
       "(280161, 24)"
      ]
     },
     "execution_count": 4,
     "metadata": {},
     "output_type": "execute_result"
    }
   ],
   "source": [
    "trip_data_by_year_df = pd.read_csv('results/trip_details/{}'.format(trip_details_file_name))\n",
    "trip_data_by_year_df.shape"
   ]
  },
  {
   "cell_type": "code",
   "execution_count": 5,
   "id": "9cca9739",
   "metadata": {},
   "outputs": [
    {
     "data": {
      "text/plain": [
       "trip_id               0\n",
       "duration              0\n",
       "start_station         0\n",
       "start_lat             0\n",
       "start_lon             0\n",
       "end_station           0\n",
       "end_lat               0\n",
       "end_lon               0\n",
       "bike_id              16\n",
       "plan_duration         0\n",
       "trip_route_type       0\n",
       "passholder_type    4614\n",
       "bike_type             0\n",
       "distance              0\n",
       "distance_cal          0\n",
       "used_date             0\n",
       "used_hour             0\n",
       "season                0\n",
       "holiday               0\n",
       "workingday            0\n",
       "start_datetime        0\n",
       "end_datetime          0\n",
       "start_hour            0\n",
       "ptd                   0\n",
       "dtype: int64"
      ]
     },
     "execution_count": 5,
     "metadata": {},
     "output_type": "execute_result"
    }
   ],
   "source": [
    "# check missing value\n",
    "trip_data_by_year_df.isna().sum()"
   ]
  },
  {
   "cell_type": "code",
   "execution_count": 6,
   "id": "63618e8b",
   "metadata": {},
   "outputs": [
    {
     "data": {
      "text/plain": [
       "trip_id            0\n",
       "duration           0\n",
       "start_station      0\n",
       "start_lat          0\n",
       "start_lon          0\n",
       "end_station        0\n",
       "end_lat            0\n",
       "end_lon            0\n",
       "bike_id            0\n",
       "plan_duration      0\n",
       "trip_route_type    0\n",
       "passholder_type    0\n",
       "bike_type          0\n",
       "distance           0\n",
       "distance_cal       0\n",
       "used_date          0\n",
       "used_hour          0\n",
       "season             0\n",
       "holiday            0\n",
       "workingday         0\n",
       "start_datetime     0\n",
       "end_datetime       0\n",
       "start_hour         0\n",
       "ptd                0\n",
       "dtype: int64"
      ]
     },
     "execution_count": 6,
     "metadata": {},
     "output_type": "execute_result"
    }
   ],
   "source": [
    "# remove missing value\n",
    "trip_data_by_year_df = trip_data_by_year_df.dropna(how='any')\n",
    "trip_data_by_year_df.isnull().sum()"
   ]
  },
  {
   "cell_type": "code",
   "execution_count": 7,
   "id": "31705b46",
   "metadata": {},
   "outputs": [
    {
     "name": "stdout",
     "output_type": "stream",
     "text": [
      "<class 'pandas.core.frame.DataFrame'>\n",
      "Int64Index: 275533 entries, 0 to 280160\n",
      "Data columns (total 24 columns):\n",
      " #   Column           Non-Null Count   Dtype  \n",
      "---  ------           --------------   -----  \n",
      " 0   trip_id          275533 non-null  int64  \n",
      " 1   duration         275533 non-null  int64  \n",
      " 2   start_station    275533 non-null  int64  \n",
      " 3   start_lat        275533 non-null  float64\n",
      " 4   start_lon        275533 non-null  float64\n",
      " 5   end_station      275533 non-null  int64  \n",
      " 6   end_lat          275533 non-null  float64\n",
      " 7   end_lon          275533 non-null  float64\n",
      " 8   bike_id          275533 non-null  float64\n",
      " 9   plan_duration    275533 non-null  int64  \n",
      " 10  trip_route_type  275533 non-null  int64  \n",
      " 11  passholder_type  275533 non-null  float64\n",
      " 12  bike_type        275533 non-null  int64  \n",
      " 13  distance         275533 non-null  float64\n",
      " 14  distance_cal     275533 non-null  float64\n",
      " 15  used_date        275533 non-null  object \n",
      " 16  used_hour        275533 non-null  int64  \n",
      " 17  season           275533 non-null  int64  \n",
      " 18  holiday          275533 non-null  int64  \n",
      " 19  workingday       275533 non-null  int64  \n",
      " 20  start_datetime   275533 non-null  object \n",
      " 21  end_datetime     275533 non-null  object \n",
      " 22  start_hour       275533 non-null  object \n",
      " 23  ptd              275533 non-null  int64  \n",
      "dtypes: float64(8), int64(12), object(4)\n",
      "memory usage: 52.6+ MB\n"
     ]
    }
   ],
   "source": [
    "trip_data_by_year_df.info()"
   ]
  },
  {
   "cell_type": "code",
   "execution_count": 8,
   "id": "0040f3d9",
   "metadata": {},
   "outputs": [
    {
     "name": "stdout",
     "output_type": "stream",
     "text": [
      "<class 'pandas.core.frame.DataFrame'>\n",
      "Int64Index: 275533 entries, 0 to 280160\n",
      "Data columns (total 24 columns):\n",
      " #   Column           Non-Null Count   Dtype  \n",
      "---  ------           --------------   -----  \n",
      " 0   trip_id          275533 non-null  int64  \n",
      " 1   duration         275533 non-null  int64  \n",
      " 2   start_station    275533 non-null  int64  \n",
      " 3   start_lat        275533 non-null  float64\n",
      " 4   start_lon        275533 non-null  float64\n",
      " 5   end_station      275533 non-null  int64  \n",
      " 6   end_lat          275533 non-null  float64\n",
      " 7   end_lon          275533 non-null  float64\n",
      " 8   bike_id          275533 non-null  float64\n",
      " 9   plan_duration    275533 non-null  int64  \n",
      " 10  trip_route_type  275533 non-null  int64  \n",
      " 11  passholder_type  275533 non-null  int64  \n",
      " 12  bike_type        275533 non-null  int64  \n",
      " 13  distance         275533 non-null  float64\n",
      " 14  distance_cal     275533 non-null  float64\n",
      " 15  used_date        275533 non-null  object \n",
      " 16  used_hour        275533 non-null  int64  \n",
      " 17  season           275533 non-null  int64  \n",
      " 18  holiday          275533 non-null  int64  \n",
      " 19  workingday       275533 non-null  int64  \n",
      " 20  start_datetime   275533 non-null  object \n",
      " 21  end_datetime     275533 non-null  object \n",
      " 22  start_hour       275533 non-null  object \n",
      " 23  ptd              275533 non-null  int64  \n",
      "dtypes: float64(7), int64(13), object(4)\n",
      "memory usage: 52.6+ MB\n"
     ]
    }
   ],
   "source": [
    "trip_data_by_year_df['passholder_type'] = trip_data_by_year_df['passholder_type'].astype('int') \n",
    "trip_data_by_year_df.info()"
   ]
  },
  {
   "cell_type": "code",
   "execution_count": 9,
   "id": "e34513c5",
   "metadata": {},
   "outputs": [
    {
     "data": {
      "text/html": [
       "<div>\n",
       "<style scoped>\n",
       "    .dataframe tbody tr th:only-of-type {\n",
       "        vertical-align: middle;\n",
       "    }\n",
       "\n",
       "    .dataframe tbody tr th {\n",
       "        vertical-align: top;\n",
       "    }\n",
       "\n",
       "    .dataframe thead th {\n",
       "        text-align: right;\n",
       "    }\n",
       "</style>\n",
       "<table border=\"1\" class=\"dataframe\">\n",
       "  <thead>\n",
       "    <tr style=\"text-align: right;\">\n",
       "      <th></th>\n",
       "      <th>trip_id</th>\n",
       "      <th>duration</th>\n",
       "      <th>start_station</th>\n",
       "      <th>start_lat</th>\n",
       "      <th>start_lon</th>\n",
       "      <th>end_station</th>\n",
       "      <th>end_lat</th>\n",
       "      <th>end_lon</th>\n",
       "      <th>bike_id</th>\n",
       "      <th>plan_duration</th>\n",
       "      <th>...</th>\n",
       "      <th>distance_cal</th>\n",
       "      <th>used_date</th>\n",
       "      <th>used_hour</th>\n",
       "      <th>season</th>\n",
       "      <th>holiday</th>\n",
       "      <th>workingday</th>\n",
       "      <th>start_datetime</th>\n",
       "      <th>end_datetime</th>\n",
       "      <th>start_hour</th>\n",
       "      <th>ptd</th>\n",
       "    </tr>\n",
       "  </thead>\n",
       "  <tbody>\n",
       "    <tr>\n",
       "      <th>0</th>\n",
       "      <td>151713183</td>\n",
       "      <td>17</td>\n",
       "      <td>3005</td>\n",
       "      <td>34.048500</td>\n",
       "      <td>-118.258537</td>\n",
       "      <td>4304</td>\n",
       "      <td>34.062580</td>\n",
       "      <td>-118.290092</td>\n",
       "      <td>5894.0</td>\n",
       "      <td>1</td>\n",
       "      <td>...</td>\n",
       "      <td>3.586</td>\n",
       "      <td>1/1/2021</td>\n",
       "      <td>1</td>\n",
       "      <td>1</td>\n",
       "      <td>1</td>\n",
       "      <td>0</td>\n",
       "      <td>2021-01-01T01:45:00.000-08:00</td>\n",
       "      <td>2021-01-01T02:02:00.000-08:00</td>\n",
       "      <td>2021-01-01 01:00:00</td>\n",
       "      <td>2021</td>\n",
       "    </tr>\n",
       "    <tr>\n",
       "      <th>1</th>\n",
       "      <td>151713983</td>\n",
       "      <td>7</td>\n",
       "      <td>4390</td>\n",
       "      <td>34.069271</td>\n",
       "      <td>-118.296593</td>\n",
       "      <td>4456</td>\n",
       "      <td>34.052429</td>\n",
       "      <td>-118.302017</td>\n",
       "      <td>16901.0</td>\n",
       "      <td>365</td>\n",
       "      <td>...</td>\n",
       "      <td>1.073</td>\n",
       "      <td>1/1/2021</td>\n",
       "      <td>2</td>\n",
       "      <td>1</td>\n",
       "      <td>1</td>\n",
       "      <td>0</td>\n",
       "      <td>2021-01-01T02:35:00.000-08:00</td>\n",
       "      <td>2021-01-01T02:42:00.000-08:00</td>\n",
       "      <td>2021-01-01 02:00:00</td>\n",
       "      <td>2021</td>\n",
       "    </tr>\n",
       "    <tr>\n",
       "      <th>2</th>\n",
       "      <td>151716483</td>\n",
       "      <td>8</td>\n",
       "      <td>3052</td>\n",
       "      <td>34.051102</td>\n",
       "      <td>-118.264557</td>\n",
       "      <td>4314</td>\n",
       "      <td>34.057709</td>\n",
       "      <td>-118.279762</td>\n",
       "      <td>6005.0</td>\n",
       "      <td>30</td>\n",
       "      <td>...</td>\n",
       "      <td>1.726</td>\n",
       "      <td>1/1/2021</td>\n",
       "      <td>4</td>\n",
       "      <td>1</td>\n",
       "      <td>1</td>\n",
       "      <td>0</td>\n",
       "      <td>2021-01-01T04:28:00.000-08:00</td>\n",
       "      <td>2021-01-01T04:36:00.000-08:00</td>\n",
       "      <td>2021-01-01 04:00:00</td>\n",
       "      <td>2021</td>\n",
       "    </tr>\n",
       "  </tbody>\n",
       "</table>\n",
       "<p>3 rows × 24 columns</p>\n",
       "</div>"
      ],
      "text/plain": [
       "     trip_id  duration  start_station  start_lat   start_lon  end_station  \\\n",
       "0  151713183        17           3005  34.048500 -118.258537         4304   \n",
       "1  151713983         7           4390  34.069271 -118.296593         4456   \n",
       "2  151716483         8           3052  34.051102 -118.264557         4314   \n",
       "\n",
       "     end_lat     end_lon  bike_id  plan_duration  ...  distance_cal  \\\n",
       "0  34.062580 -118.290092   5894.0              1  ...         3.586   \n",
       "1  34.052429 -118.302017  16901.0            365  ...         1.073   \n",
       "2  34.057709 -118.279762   6005.0             30  ...         1.726   \n",
       "\n",
       "   used_date  used_hour  season  holiday workingday  \\\n",
       "0   1/1/2021          1       1        1          0   \n",
       "1   1/1/2021          2       1        1          0   \n",
       "2   1/1/2021          4       1        1          0   \n",
       "\n",
       "                  start_datetime                   end_datetime  \\\n",
       "0  2021-01-01T01:45:00.000-08:00  2021-01-01T02:02:00.000-08:00   \n",
       "1  2021-01-01T02:35:00.000-08:00  2021-01-01T02:42:00.000-08:00   \n",
       "2  2021-01-01T04:28:00.000-08:00  2021-01-01T04:36:00.000-08:00   \n",
       "\n",
       "            start_hour   ptd  \n",
       "0  2021-01-01 01:00:00  2021  \n",
       "1  2021-01-01 02:00:00  2021  \n",
       "2  2021-01-01 04:00:00  2021  \n",
       "\n",
       "[3 rows x 24 columns]"
      ]
     },
     "execution_count": 9,
     "metadata": {},
     "output_type": "execute_result"
    }
   ],
   "source": [
    "trip_data_by_year_df.head(3)"
   ]
  },
  {
   "cell_type": "code",
   "execution_count": 10,
   "id": "f822c9f8",
   "metadata": {},
   "outputs": [
    {
     "data": {
      "text/plain": [
       "(275533, 24)"
      ]
     },
     "execution_count": 10,
     "metadata": {},
     "output_type": "execute_result"
    }
   ],
   "source": [
    "trip_data_by_year_df.shape"
   ]
  },
  {
   "cell_type": "markdown",
   "id": "1c4cfb1d",
   "metadata": {},
   "source": [
    "Feature descriptions from https://bikeshare.metro.net/about/data/\n",
    "\n",
    "trip_id: Locally unique integer that identifies the trip\n",
    "\n",
    "duration: Length of trip in minutes*\n",
    "\n",
    "start_time: The date/time when the trip began, presented in ISO 8601 format in local time\n",
    "\n",
    "end_time: The date/time when the trip ended, presented in ISO 8601 format in local time\n",
    "\n",
    "start_station: The station ID where the trip originated\n",
    "\n",
    "start_lat: The latitude of the station where the trip originated\n",
    "\n",
    "start_lon: The longitude of the station where the trip originated\n",
    "\n",
    "end_station: The station ID where the trip terminated\n",
    "\n",
    "end_lat: The latitude of the station where the trip terminated\n",
    "\n",
    "end_lon: The longitude of the station where the trip terminated\n",
    "\n",
    "bike_id: Locally unique integer that identifies the bike\n",
    "\n",
    "plan_duration: The number of days that the plan the passholder is using entitles them to ride; 0 is used for a single ride plan (Walk-up)\n",
    "\n",
    "trip_route_category: \"Round Trip\" for trips starting and ending at the same station or \"One Way\" for all other trips\n",
    "\n",
    "passholder_type: The name of the passholder's plan\n",
    "\n",
    "*units are actually in but each instance is a multiple of 60 i.e. a whole minute number. We will convert this to minutes\n",
    "\n",
    "Other features are not officially described by Metro Bike Share\n",
    "\n",
    "Starting Lat-Long and Ending Lat-Long appear to be repetitions of previous station data and can be dropped safely\n",
    "\n",
    "Remaining features appear to be LA geographic information not relevant to this study, many of which include large amounts of missing data. These will also be dropped."
   ]
  },
  {
   "cell_type": "code",
   "execution_count": 11,
   "id": "87d8051f",
   "metadata": {},
   "outputs": [
    {
     "data": {
      "text/html": [
       "<div>\n",
       "<style scoped>\n",
       "    .dataframe tbody tr th:only-of-type {\n",
       "        vertical-align: middle;\n",
       "    }\n",
       "\n",
       "    .dataframe tbody tr th {\n",
       "        vertical-align: top;\n",
       "    }\n",
       "\n",
       "    .dataframe thead th {\n",
       "        text-align: right;\n",
       "    }\n",
       "</style>\n",
       "<table border=\"1\" class=\"dataframe\">\n",
       "  <thead>\n",
       "    <tr style=\"text-align: right;\">\n",
       "      <th></th>\n",
       "      <th>trip_id</th>\n",
       "      <th>duration</th>\n",
       "      <th>start_station</th>\n",
       "      <th>start_lat</th>\n",
       "      <th>start_lon</th>\n",
       "      <th>end_station</th>\n",
       "      <th>end_lat</th>\n",
       "      <th>end_lon</th>\n",
       "      <th>bike_id</th>\n",
       "      <th>plan_duration</th>\n",
       "      <th>...</th>\n",
       "      <th>distance_cal</th>\n",
       "      <th>used_date</th>\n",
       "      <th>used_hour</th>\n",
       "      <th>season</th>\n",
       "      <th>holiday</th>\n",
       "      <th>workingday</th>\n",
       "      <th>start_datetime</th>\n",
       "      <th>end_datetime</th>\n",
       "      <th>start_hour</th>\n",
       "      <th>ptd</th>\n",
       "    </tr>\n",
       "  </thead>\n",
       "  <tbody>\n",
       "    <tr>\n",
       "      <th>0</th>\n",
       "      <td>151713183</td>\n",
       "      <td>17</td>\n",
       "      <td>3005</td>\n",
       "      <td>34.048500</td>\n",
       "      <td>-118.258537</td>\n",
       "      <td>4304</td>\n",
       "      <td>34.062580</td>\n",
       "      <td>-118.290092</td>\n",
       "      <td>5894.0</td>\n",
       "      <td>1</td>\n",
       "      <td>...</td>\n",
       "      <td>3.586</td>\n",
       "      <td>1/1/2021</td>\n",
       "      <td>1</td>\n",
       "      <td>1</td>\n",
       "      <td>1</td>\n",
       "      <td>0</td>\n",
       "      <td>2021-01-01T01:45:00.000-08:00</td>\n",
       "      <td>2021-01-01T02:02:00.000-08:00</td>\n",
       "      <td>2021-01-01 01:00:00</td>\n",
       "      <td>2021</td>\n",
       "    </tr>\n",
       "    <tr>\n",
       "      <th>1</th>\n",
       "      <td>151713983</td>\n",
       "      <td>7</td>\n",
       "      <td>4390</td>\n",
       "      <td>34.069271</td>\n",
       "      <td>-118.296593</td>\n",
       "      <td>4456</td>\n",
       "      <td>34.052429</td>\n",
       "      <td>-118.302017</td>\n",
       "      <td>16901.0</td>\n",
       "      <td>365</td>\n",
       "      <td>...</td>\n",
       "      <td>1.073</td>\n",
       "      <td>1/1/2021</td>\n",
       "      <td>2</td>\n",
       "      <td>1</td>\n",
       "      <td>1</td>\n",
       "      <td>0</td>\n",
       "      <td>2021-01-01T02:35:00.000-08:00</td>\n",
       "      <td>2021-01-01T02:42:00.000-08:00</td>\n",
       "      <td>2021-01-01 02:00:00</td>\n",
       "      <td>2021</td>\n",
       "    </tr>\n",
       "    <tr>\n",
       "      <th>2</th>\n",
       "      <td>151716483</td>\n",
       "      <td>8</td>\n",
       "      <td>3052</td>\n",
       "      <td>34.051102</td>\n",
       "      <td>-118.264557</td>\n",
       "      <td>4314</td>\n",
       "      <td>34.057709</td>\n",
       "      <td>-118.279762</td>\n",
       "      <td>6005.0</td>\n",
       "      <td>30</td>\n",
       "      <td>...</td>\n",
       "      <td>1.726</td>\n",
       "      <td>1/1/2021</td>\n",
       "      <td>4</td>\n",
       "      <td>1</td>\n",
       "      <td>1</td>\n",
       "      <td>0</td>\n",
       "      <td>2021-01-01T04:28:00.000-08:00</td>\n",
       "      <td>2021-01-01T04:36:00.000-08:00</td>\n",
       "      <td>2021-01-01 04:00:00</td>\n",
       "      <td>2021</td>\n",
       "    </tr>\n",
       "  </tbody>\n",
       "</table>\n",
       "<p>3 rows × 24 columns</p>\n",
       "</div>"
      ],
      "text/plain": [
       "     trip_id  duration  start_station  start_lat   start_lon  end_station  \\\n",
       "0  151713183        17           3005  34.048500 -118.258537         4304   \n",
       "1  151713983         7           4390  34.069271 -118.296593         4456   \n",
       "2  151716483         8           3052  34.051102 -118.264557         4314   \n",
       "\n",
       "     end_lat     end_lon  bike_id  plan_duration  ...  distance_cal  \\\n",
       "0  34.062580 -118.290092   5894.0              1  ...         3.586   \n",
       "1  34.052429 -118.302017  16901.0            365  ...         1.073   \n",
       "2  34.057709 -118.279762   6005.0             30  ...         1.726   \n",
       "\n",
       "   used_date  used_hour  season  holiday workingday  \\\n",
       "0   1/1/2021          1       1        1          0   \n",
       "1   1/1/2021          2       1        1          0   \n",
       "2   1/1/2021          4       1        1          0   \n",
       "\n",
       "                  start_datetime                   end_datetime  \\\n",
       "0  2021-01-01T01:45:00.000-08:00  2021-01-01T02:02:00.000-08:00   \n",
       "1  2021-01-01T02:35:00.000-08:00  2021-01-01T02:42:00.000-08:00   \n",
       "2  2021-01-01T04:28:00.000-08:00  2021-01-01T04:36:00.000-08:00   \n",
       "\n",
       "            start_hour   ptd  \n",
       "0  2021-01-01 01:00:00  2021  \n",
       "1  2021-01-01 02:00:00  2021  \n",
       "2  2021-01-01 04:00:00  2021  \n",
       "\n",
       "[3 rows x 24 columns]"
      ]
     },
     "execution_count": 11,
     "metadata": {},
     "output_type": "execute_result"
    }
   ],
   "source": [
    "if trip_data_by_year_df.index is None and len(trip_data_by_year_df.index) == 0:\n",
    "    trip_data_by_year_df.set_index('trip_id', inplace=True)\n",
    "trip_data_by_year_df.head(3)"
   ]
  },
  {
   "cell_type": "code",
   "execution_count": 12,
   "id": "1605c326",
   "metadata": {},
   "outputs": [
    {
     "data": {
      "text/html": [
       "<div>\n",
       "<style scoped>\n",
       "    .dataframe tbody tr th:only-of-type {\n",
       "        vertical-align: middle;\n",
       "    }\n",
       "\n",
       "    .dataframe tbody tr th {\n",
       "        vertical-align: top;\n",
       "    }\n",
       "\n",
       "    .dataframe thead th {\n",
       "        text-align: right;\n",
       "    }\n",
       "</style>\n",
       "<table border=\"1\" class=\"dataframe\">\n",
       "  <thead>\n",
       "    <tr style=\"text-align: right;\">\n",
       "      <th></th>\n",
       "      <th>count</th>\n",
       "      <th>mean</th>\n",
       "      <th>std</th>\n",
       "      <th>min</th>\n",
       "      <th>25%</th>\n",
       "      <th>50%</th>\n",
       "      <th>75%</th>\n",
       "      <th>max</th>\n",
       "    </tr>\n",
       "  </thead>\n",
       "  <tbody>\n",
       "    <tr>\n",
       "      <th>duration</th>\n",
       "      <td>275533.0</td>\n",
       "      <td>41.308979</td>\n",
       "      <td>105.355427</td>\n",
       "      <td>1.0</td>\n",
       "      <td>9.000000</td>\n",
       "      <td>19.000000</td>\n",
       "      <td>34.000000</td>\n",
       "      <td>1440.00</td>\n",
       "    </tr>\n",
       "    <tr>\n",
       "      <th>plan_duration</th>\n",
       "      <td>275533.0</td>\n",
       "      <td>49.080680</td>\n",
       "      <td>100.881971</td>\n",
       "      <td>1.0</td>\n",
       "      <td>1.000000</td>\n",
       "      <td>30.000000</td>\n",
       "      <td>30.000000</td>\n",
       "      <td>365.00</td>\n",
       "    </tr>\n",
       "    <tr>\n",
       "      <th>trip_route_type</th>\n",
       "      <td>275533.0</td>\n",
       "      <td>1.247197</td>\n",
       "      <td>0.431383</td>\n",
       "      <td>1.0</td>\n",
       "      <td>1.000000</td>\n",
       "      <td>1.000000</td>\n",
       "      <td>1.000000</td>\n",
       "      <td>2.00</td>\n",
       "    </tr>\n",
       "    <tr>\n",
       "      <th>passholder_type</th>\n",
       "      <td>275533.0</td>\n",
       "      <td>2.409889</td>\n",
       "      <td>0.989144</td>\n",
       "      <td>1.0</td>\n",
       "      <td>1.000000</td>\n",
       "      <td>3.000000</td>\n",
       "      <td>3.000000</td>\n",
       "      <td>4.00</td>\n",
       "    </tr>\n",
       "    <tr>\n",
       "      <th>bike_type</th>\n",
       "      <td>275533.0</td>\n",
       "      <td>1.408619</td>\n",
       "      <td>0.586983</td>\n",
       "      <td>1.0</td>\n",
       "      <td>1.000000</td>\n",
       "      <td>1.000000</td>\n",
       "      <td>2.000000</td>\n",
       "      <td>3.00</td>\n",
       "    </tr>\n",
       "    <tr>\n",
       "      <th>distance</th>\n",
       "      <td>275533.0</td>\n",
       "      <td>225.561020</td>\n",
       "      <td>7768.485288</td>\n",
       "      <td>0.0</td>\n",
       "      <td>2.739562</td>\n",
       "      <td>18.798176</td>\n",
       "      <td>38.462017</td>\n",
       "      <td>304154.84</td>\n",
       "    </tr>\n",
       "    <tr>\n",
       "      <th>season</th>\n",
       "      <td>275533.0</td>\n",
       "      <td>2.499762</td>\n",
       "      <td>0.893744</td>\n",
       "      <td>1.0</td>\n",
       "      <td>2.000000</td>\n",
       "      <td>2.000000</td>\n",
       "      <td>3.000000</td>\n",
       "      <td>4.00</td>\n",
       "    </tr>\n",
       "    <tr>\n",
       "      <th>holiday</th>\n",
       "      <td>275533.0</td>\n",
       "      <td>0.031572</td>\n",
       "      <td>0.174857</td>\n",
       "      <td>0.0</td>\n",
       "      <td>0.000000</td>\n",
       "      <td>0.000000</td>\n",
       "      <td>0.000000</td>\n",
       "      <td>1.00</td>\n",
       "    </tr>\n",
       "    <tr>\n",
       "      <th>workingday</th>\n",
       "      <td>275533.0</td>\n",
       "      <td>0.649400</td>\n",
       "      <td>0.477159</td>\n",
       "      <td>0.0</td>\n",
       "      <td>0.000000</td>\n",
       "      <td>1.000000</td>\n",
       "      <td>1.000000</td>\n",
       "      <td>1.00</td>\n",
       "    </tr>\n",
       "  </tbody>\n",
       "</table>\n",
       "</div>"
      ],
      "text/plain": [
       "                    count        mean          std  min       25%        50%  \\\n",
       "duration         275533.0   41.308979   105.355427  1.0  9.000000  19.000000   \n",
       "plan_duration    275533.0   49.080680   100.881971  1.0  1.000000  30.000000   \n",
       "trip_route_type  275533.0    1.247197     0.431383  1.0  1.000000   1.000000   \n",
       "passholder_type  275533.0    2.409889     0.989144  1.0  1.000000   3.000000   \n",
       "bike_type        275533.0    1.408619     0.586983  1.0  1.000000   1.000000   \n",
       "distance         275533.0  225.561020  7768.485288  0.0  2.739562  18.798176   \n",
       "season           275533.0    2.499762     0.893744  1.0  2.000000   2.000000   \n",
       "holiday          275533.0    0.031572     0.174857  0.0  0.000000   0.000000   \n",
       "workingday       275533.0    0.649400     0.477159  0.0  0.000000   1.000000   \n",
       "\n",
       "                       75%        max  \n",
       "duration         34.000000    1440.00  \n",
       "plan_duration    30.000000     365.00  \n",
       "trip_route_type   1.000000       2.00  \n",
       "passholder_type   3.000000       4.00  \n",
       "bike_type         2.000000       3.00  \n",
       "distance         38.462017  304154.84  \n",
       "season            3.000000       4.00  \n",
       "holiday           0.000000       1.00  \n",
       "workingday        1.000000       1.00  "
      ]
     },
     "execution_count": 12,
     "metadata": {},
     "output_type": "execute_result"
    }
   ],
   "source": [
    "trip_data_by_year_df[['duration', 'plan_duration',  'trip_route_type', 'passholder_type', \n",
    "                      'bike_type', 'distance', 'season', 'holiday', 'workingday']].describe().T"
   ]
  },
  {
   "cell_type": "markdown",
   "id": "32ade69f",
   "metadata": {},
   "source": [
    "### Plot in categorical variable"
   ]
  },
  {
   "cell_type": "code",
   "execution_count": 13,
   "id": "6edfd111",
   "metadata": {},
   "outputs": [
    {
     "name": "stdout",
     "output_type": "stream",
     "text": [
      "monthly pass    142154\n",
      "walk-up          77384\n",
      "one day pass     31911\n",
      "annual pass      24084\n",
      "Name: passholder_type, dtype: int64\n"
     ]
    },
    {
     "data": {
      "text/plain": [
       "<AxesSubplot:xlabel='workingday', ylabel='count'>"
      ]
     },
     "execution_count": 13,
     "metadata": {},
     "output_type": "execute_result"
    },
    {
     "data": {
      "image/png": "[encoded data removed]",
      "text/plain": [
       "<Figure size 1440x576 with 6 Axes>"
      ]
     },
     "metadata": {
      "needs_background": "light"
     },
     "output_type": "display_data"
    }
   ],
   "source": [
    "# countplot in categorical variable\n",
    "fig, axes = plt.subplots(nrows=2, ncols=3)\n",
    "fig.set_size_inches(20, 8)\n",
    "\n",
    "# col_name = ['trip_route_type', 'passholder_type', 'bike_type', 'season', 'holiday', 'workingday']\n",
    "\n",
    "from copy import deepcopy\n",
    "trip_data_dscrpt_df = deepcopy(trip_data_by_year_df)\n",
    "\n",
    "trip_route_type = {1: 'one way', 2: 'round trip'}\n",
    "trip_data_dscrpt_df['trip_route_type'] = [trip_route_type[x] for x in trip_data_by_year_df['trip_route_type']]\n",
    "passholder_type = {1: 'walk-up', 2: 'one day pass', 3: 'monthly pass', 4: 'annual pass'}\n",
    "trip_data_dscrpt_df['passholder_type'] = [passholder_type[x] for x in trip_data_by_year_df['passholder_type']]\n",
    "bike_type = {1: 'standard', 2: 'electric', 3: 'smart'}\n",
    "trip_data_dscrpt_df['bike_type'] = [bike_type[x] for x in trip_data_by_year_df['bike_type']]\n",
    "season = {1: 'winter', 2: 'spring', 3: 'summer', 4: 'autumn'}\n",
    "trip_data_dscrpt_df['season'] = [season[x] for x in trip_data_by_year_df['season']]\n",
    "holiday = {1: 'us holiday', 0: 'non-holiday'}\n",
    "trip_data_dscrpt_df['holiday'] = [holiday[x] for x in trip_data_by_year_df['holiday']]\n",
    "workingday = {1: 'workingday', 0: 'non-workingday'}\n",
    "trip_data_dscrpt_df['workingday'] = [workingday[x] for x in trip_data_by_year_df['workingday']]\n",
    "\n",
    "print(trip_data_dscrpt_df['passholder_type'].value_counts())\n",
    "\n",
    "sns.countplot(trip_data_dscrpt_df['trip_route_type'], ax=axes[0][0])\n",
    "sns.countplot(trip_data_dscrpt_df['passholder_type'], ax=axes[0][1])\n",
    "sns.countplot(trip_data_dscrpt_df['bike_type'], ax=axes[0][2])\n",
    "sns.countplot(trip_data_dscrpt_df['season'], ax=axes[1][0])\n",
    "sns.countplot(trip_data_dscrpt_df['holiday'], ax=axes[1][1])\n",
    "sns.countplot(trip_data_dscrpt_df['workingday'], ax=axes[1][2])"
   ]
  },
  {
   "cell_type": "code",
   "execution_count": 14,
   "id": "b86e6feb",
   "metadata": {},
   "outputs": [
    {
     "data": {
      "text/plain": [
       "<AxesSubplot:xlabel='season', ylabel='ptd'>"
      ]
     },
     "execution_count": 14,
     "metadata": {},
     "output_type": "execute_result"
    },
    {
     "data": {
      "image/png": "[encoded data removed]",
      "text/plain": [
       "<Figure size 1152x576 with 4 Axes>"
      ]
     },
     "metadata": {
      "needs_background": "light"
     },
     "output_type": "display_data"
    }
   ],
   "source": [
    "# pointplot in categorical variable\n",
    "fig, axes = plt.subplots(nrows=2, ncols=2)\n",
    "fig.set_size_inches(16, 8)\n",
    "\n",
    "sns.pointplot(data=trip_data_by_year_df, x='trip_route_type', y='ptd', ax=axes[0][0])\n",
    "sns.pointplot(data=trip_data_by_year_df, x='passholder_type', y='ptd', ax=axes[0][1])\n",
    "sns.pointplot(data=trip_data_by_year_df, x='bike_type', y='ptd', ax=axes[1][0])\n",
    "sns.pointplot(data=trip_data_by_year_df, x='season', y='ptd', ax=axes[1][1])\n",
    "\n",
    "# sns.pointplot(data=trip_data_by_year, x='trip_route_type', ax=axes[0][0])\n",
    "# sns.pointplot(data=trip_data_by_year, x='passholder_type', ax=axes[0][1])\n",
    "# sns.pointplot(data=trip_data_by_year, x='bike_type', ax=axes[0][2])\n",
    "# sns.pointplot(data=trip_data_by_year, x='season', ax=axes[1][0])\n",
    "# sns.pointplot(data=trip_data_by_year, x='holiday', ax=axes[1][1])\n",
    "# sns.pointplot(data=trip_data_by_year, x='workingday', ax=axes[1][2])"
   ]
  },
  {
   "cell_type": "markdown",
   "id": "5faa245a",
   "metadata": {},
   "source": [
    "## Modeling analysis by k-means"
   ]
  },
  {
   "cell_type": "markdown",
   "id": "dd955ba4",
   "metadata": {},
   "source": [
    "### Load Data "
   ]
  },
  {
   "cell_type": "code",
   "execution_count": 15,
   "id": "d00d7cf0",
   "metadata": {},
   "outputs": [
    {
     "name": "stdout",
     "output_type": "stream",
     "text": [
      "part-00000-b7385289-4571-4b1b-8f94-1a93242dc8e9-c000.csv\n"
     ]
    }
   ],
   "source": [
    "# Get file name automatically\n",
    "from common.file_utils import FileUtils\n",
    "app_trip_cnt_by_hour_file_name = None\n",
    "files_name = FileUtils.get_file_list_under_dir('results/app/app_trip_cnt_by_hour/')\n",
    "for i in files_name:\n",
    "    if '.csv' in i:\n",
    "        app_trip_cnt_by_hour_file_name = i[1:]\n",
    "        break\n",
    "print(app_trip_cnt_by_hour_file_name)"
   ]
  },
  {
   "cell_type": "code",
   "execution_count": 16,
   "id": "c4617b66",
   "metadata": {},
   "outputs": [],
   "source": [
    "# app_trip_cnt_by_hour\n",
    "app_trip_cnt_by_hour_df = pd.read_csv('results/app/app_trip_cnt_by_hour/{}'.format(app_trip_cnt_by_hour_file_name))"
   ]
  },
  {
   "cell_type": "code",
   "execution_count": 17,
   "id": "ea67374d",
   "metadata": {},
   "outputs": [
    {
     "name": "stdout",
     "output_type": "stream",
     "text": [
      "<class 'pandas.core.frame.DataFrame'>\n",
      "RangeIndex: 12102 entries, 0 to 12101\n",
      "Data columns (total 18 columns):\n",
      " #   Column                            Non-Null Count  Dtype \n",
      "---  ------                            --------------  ----- \n",
      " 0   start_hour                        12102 non-null  object\n",
      " 1   used_count                        12102 non-null  int64 \n",
      " 2   total_duration                    12102 non-null  int64 \n",
      " 3   plan_duration_day_count           12102 non-null  int64 \n",
      " 4   plan_duration_month_count         12102 non-null  int64 \n",
      " 5   plan_duration_year_count          12102 non-null  int64 \n",
      " 6   trip_route_type_one_way_count     12102 non-null  int64 \n",
      " 7   trip_route_type_round_trip_count  12102 non-null  int64 \n",
      " 8   passholder_type_walk_up_count     12102 non-null  int64 \n",
      " 9   passholder_type_one_day_count     12102 non-null  int64 \n",
      " 10  passholder_type_monthly_count     12102 non-null  int64 \n",
      " 11  passholder_type_annual_count      12102 non-null  int64 \n",
      " 12  bike_type_standard_count          12102 non-null  int64 \n",
      " 13  bike_type_electric_count          12102 non-null  int64 \n",
      " 14  bike_type_smart_count             12102 non-null  int64 \n",
      " 15  season                            12102 non-null  int64 \n",
      " 16  holiday                           12102 non-null  int64 \n",
      " 17  workingday                        12102 non-null  int64 \n",
      "dtypes: int64(17), object(1)\n",
      "memory usage: 1.7+ MB\n"
     ]
    }
   ],
   "source": [
    "app_trip_cnt_by_hour_df.info()"
   ]
  },
  {
   "cell_type": "code",
   "execution_count": 18,
   "id": "927690f2",
   "metadata": {},
   "outputs": [
    {
     "data": {
      "text/html": [
       "<div>\n",
       "<style scoped>\n",
       "    .dataframe tbody tr th:only-of-type {\n",
       "        vertical-align: middle;\n",
       "    }\n",
       "\n",
       "    .dataframe tbody tr th {\n",
       "        vertical-align: top;\n",
       "    }\n",
       "\n",
       "    .dataframe thead th {\n",
       "        text-align: right;\n",
       "    }\n",
       "</style>\n",
       "<table border=\"1\" class=\"dataframe\">\n",
       "  <thead>\n",
       "    <tr style=\"text-align: right;\">\n",
       "      <th></th>\n",
       "      <th>start_hour</th>\n",
       "      <th>used_count</th>\n",
       "      <th>total_duration</th>\n",
       "      <th>plan_duration_day_count</th>\n",
       "      <th>plan_duration_month_count</th>\n",
       "      <th>plan_duration_year_count</th>\n",
       "      <th>trip_route_type_one_way_count</th>\n",
       "      <th>trip_route_type_round_trip_count</th>\n",
       "      <th>passholder_type_walk_up_count</th>\n",
       "      <th>passholder_type_one_day_count</th>\n",
       "      <th>passholder_type_monthly_count</th>\n",
       "      <th>passholder_type_annual_count</th>\n",
       "      <th>bike_type_standard_count</th>\n",
       "      <th>bike_type_electric_count</th>\n",
       "      <th>bike_type_smart_count</th>\n",
       "      <th>season</th>\n",
       "      <th>holiday</th>\n",
       "      <th>workingday</th>\n",
       "    </tr>\n",
       "  </thead>\n",
       "  <tbody>\n",
       "    <tr>\n",
       "      <th>0</th>\n",
       "      <td>2020-04-01 00:00:00</td>\n",
       "      <td>4</td>\n",
       "      <td>61</td>\n",
       "      <td>0</td>\n",
       "      <td>4</td>\n",
       "      <td>0</td>\n",
       "      <td>0</td>\n",
       "      <td>4</td>\n",
       "      <td>0</td>\n",
       "      <td>0</td>\n",
       "      <td>4</td>\n",
       "      <td>0</td>\n",
       "      <td>0</td>\n",
       "      <td>4</td>\n",
       "      <td>0</td>\n",
       "      <td>2</td>\n",
       "      <td>0</td>\n",
       "      <td>1</td>\n",
       "    </tr>\n",
       "    <tr>\n",
       "      <th>1</th>\n",
       "      <td>2020-04-01 01:00:00</td>\n",
       "      <td>4</td>\n",
       "      <td>71</td>\n",
       "      <td>0</td>\n",
       "      <td>4</td>\n",
       "      <td>0</td>\n",
       "      <td>3</td>\n",
       "      <td>1</td>\n",
       "      <td>0</td>\n",
       "      <td>0</td>\n",
       "      <td>4</td>\n",
       "      <td>0</td>\n",
       "      <td>0</td>\n",
       "      <td>4</td>\n",
       "      <td>0</td>\n",
       "      <td>2</td>\n",
       "      <td>0</td>\n",
       "      <td>1</td>\n",
       "    </tr>\n",
       "    <tr>\n",
       "      <th>2</th>\n",
       "      <td>2020-04-01 02:00:00</td>\n",
       "      <td>3</td>\n",
       "      <td>30</td>\n",
       "      <td>0</td>\n",
       "      <td>3</td>\n",
       "      <td>0</td>\n",
       "      <td>2</td>\n",
       "      <td>1</td>\n",
       "      <td>0</td>\n",
       "      <td>0</td>\n",
       "      <td>3</td>\n",
       "      <td>0</td>\n",
       "      <td>1</td>\n",
       "      <td>2</td>\n",
       "      <td>0</td>\n",
       "      <td>2</td>\n",
       "      <td>0</td>\n",
       "      <td>1</td>\n",
       "    </tr>\n",
       "  </tbody>\n",
       "</table>\n",
       "</div>"
      ],
      "text/plain": [
       "            start_hour  used_count  total_duration  plan_duration_day_count  \\\n",
       "0  2020-04-01 00:00:00           4              61                        0   \n",
       "1  2020-04-01 01:00:00           4              71                        0   \n",
       "2  2020-04-01 02:00:00           3              30                        0   \n",
       "\n",
       "   plan_duration_month_count  plan_duration_year_count  \\\n",
       "0                          4                         0   \n",
       "1                          4                         0   \n",
       "2                          3                         0   \n",
       "\n",
       "   trip_route_type_one_way_count  trip_route_type_round_trip_count  \\\n",
       "0                              0                                 4   \n",
       "1                              3                                 1   \n",
       "2                              2                                 1   \n",
       "\n",
       "   passholder_type_walk_up_count  passholder_type_one_day_count  \\\n",
       "0                              0                              0   \n",
       "1                              0                              0   \n",
       "2                              0                              0   \n",
       "\n",
       "   passholder_type_monthly_count  passholder_type_annual_count  \\\n",
       "0                              4                             0   \n",
       "1                              4                             0   \n",
       "2                              3                             0   \n",
       "\n",
       "   bike_type_standard_count  bike_type_electric_count  bike_type_smart_count  \\\n",
       "0                         0                         4                      0   \n",
       "1                         0                         4                      0   \n",
       "2                         1                         2                      0   \n",
       "\n",
       "   season  holiday  workingday  \n",
       "0       2        0           1  \n",
       "1       2        0           1  \n",
       "2       2        0           1  "
      ]
     },
     "execution_count": 18,
     "metadata": {},
     "output_type": "execute_result"
    }
   ],
   "source": [
    "app_trip_cnt_by_hour_df.head(3)"
   ]
  },
  {
   "cell_type": "code",
   "execution_count": 19,
   "id": "ea0c09af",
   "metadata": {},
   "outputs": [
    {
     "data": {
      "text/html": [
       "<div>\n",
       "<style scoped>\n",
       "    .dataframe tbody tr th:only-of-type {\n",
       "        vertical-align: middle;\n",
       "    }\n",
       "\n",
       "    .dataframe tbody tr th {\n",
       "        vertical-align: top;\n",
       "    }\n",
       "\n",
       "    .dataframe thead th {\n",
       "        text-align: right;\n",
       "    }\n",
       "</style>\n",
       "<table border=\"1\" class=\"dataframe\">\n",
       "  <thead>\n",
       "    <tr style=\"text-align: right;\">\n",
       "      <th></th>\n",
       "      <th>count</th>\n",
       "      <th>mean</th>\n",
       "      <th>std</th>\n",
       "      <th>min</th>\n",
       "      <th>25%</th>\n",
       "      <th>50%</th>\n",
       "      <th>75%</th>\n",
       "      <th>max</th>\n",
       "    </tr>\n",
       "  </thead>\n",
       "  <tbody>\n",
       "    <tr>\n",
       "      <th>used_count</th>\n",
       "      <td>12102.0</td>\n",
       "      <td>23.149975</td>\n",
       "      <td>19.200349</td>\n",
       "      <td>1.0</td>\n",
       "      <td>6.0</td>\n",
       "      <td>20.0</td>\n",
       "      <td>36.0</td>\n",
       "      <td>142.0</td>\n",
       "    </tr>\n",
       "    <tr>\n",
       "      <th>total_duration</th>\n",
       "      <td>12102.0</td>\n",
       "      <td>950.581226</td>\n",
       "      <td>1067.561784</td>\n",
       "      <td>1.0</td>\n",
       "      <td>147.0</td>\n",
       "      <td>603.0</td>\n",
       "      <td>1376.0</td>\n",
       "      <td>10558.0</td>\n",
       "    </tr>\n",
       "    <tr>\n",
       "      <th>plan_duration_day_count</th>\n",
       "      <td>12102.0</td>\n",
       "      <td>8.949843</td>\n",
       "      <td>10.180044</td>\n",
       "      <td>0.0</td>\n",
       "      <td>1.0</td>\n",
       "      <td>5.0</td>\n",
       "      <td>13.0</td>\n",
       "      <td>79.0</td>\n",
       "    </tr>\n",
       "    <tr>\n",
       "      <th>plan_duration_month_count</th>\n",
       "      <td>12102.0</td>\n",
       "      <td>12.127665</td>\n",
       "      <td>10.114859</td>\n",
       "      <td>0.0</td>\n",
       "      <td>3.0</td>\n",
       "      <td>11.0</td>\n",
       "      <td>19.0</td>\n",
       "      <td>112.0</td>\n",
       "    </tr>\n",
       "    <tr>\n",
       "      <th>plan_duration_year_count</th>\n",
       "      <td>12102.0</td>\n",
       "      <td>2.071476</td>\n",
       "      <td>2.469602</td>\n",
       "      <td>0.0</td>\n",
       "      <td>0.0</td>\n",
       "      <td>1.0</td>\n",
       "      <td>3.0</td>\n",
       "      <td>31.0</td>\n",
       "    </tr>\n",
       "    <tr>\n",
       "      <th>trip_route_type_one_way_count</th>\n",
       "      <td>12102.0</td>\n",
       "      <td>17.450091</td>\n",
       "      <td>14.317643</td>\n",
       "      <td>0.0</td>\n",
       "      <td>4.0</td>\n",
       "      <td>15.0</td>\n",
       "      <td>27.0</td>\n",
       "      <td>130.0</td>\n",
       "    </tr>\n",
       "    <tr>\n",
       "      <th>trip_route_type_round_trip_count</th>\n",
       "      <td>12102.0</td>\n",
       "      <td>5.699884</td>\n",
       "      <td>5.997782</td>\n",
       "      <td>0.0</td>\n",
       "      <td>1.0</td>\n",
       "      <td>4.0</td>\n",
       "      <td>9.0</td>\n",
       "      <td>56.0</td>\n",
       "    </tr>\n",
       "    <tr>\n",
       "      <th>passholder_type_walk_up_count</th>\n",
       "      <td>12102.0</td>\n",
       "      <td>6.394728</td>\n",
       "      <td>7.418796</td>\n",
       "      <td>0.0</td>\n",
       "      <td>1.0</td>\n",
       "      <td>4.0</td>\n",
       "      <td>9.0</td>\n",
       "      <td>60.0</td>\n",
       "    </tr>\n",
       "    <tr>\n",
       "      <th>passholder_type_one_day_count</th>\n",
       "      <td>12102.0</td>\n",
       "      <td>2.637167</td>\n",
       "      <td>3.764445</td>\n",
       "      <td>0.0</td>\n",
       "      <td>0.0</td>\n",
       "      <td>1.0</td>\n",
       "      <td>4.0</td>\n",
       "      <td>35.0</td>\n",
       "    </tr>\n",
       "    <tr>\n",
       "      <th>passholder_type_monthly_count</th>\n",
       "      <td>12102.0</td>\n",
       "      <td>11.746736</td>\n",
       "      <td>10.039064</td>\n",
       "      <td>0.0</td>\n",
       "      <td>3.0</td>\n",
       "      <td>10.0</td>\n",
       "      <td>18.0</td>\n",
       "      <td>112.0</td>\n",
       "    </tr>\n",
       "    <tr>\n",
       "      <th>passholder_type_annual_count</th>\n",
       "      <td>12102.0</td>\n",
       "      <td>1.990084</td>\n",
       "      <td>2.411525</td>\n",
       "      <td>0.0</td>\n",
       "      <td>0.0</td>\n",
       "      <td>1.0</td>\n",
       "      <td>3.0</td>\n",
       "      <td>31.0</td>\n",
       "    </tr>\n",
       "    <tr>\n",
       "      <th>bike_type_standard_count</th>\n",
       "      <td>12102.0</td>\n",
       "      <td>14.785242</td>\n",
       "      <td>13.719524</td>\n",
       "      <td>0.0</td>\n",
       "      <td>3.0</td>\n",
       "      <td>11.0</td>\n",
       "      <td>22.0</td>\n",
       "      <td>83.0</td>\n",
       "    </tr>\n",
       "    <tr>\n",
       "      <th>bike_type_electric_count</th>\n",
       "      <td>12102.0</td>\n",
       "      <td>7.185754</td>\n",
       "      <td>6.768514</td>\n",
       "      <td>0.0</td>\n",
       "      <td>2.0</td>\n",
       "      <td>6.0</td>\n",
       "      <td>11.0</td>\n",
       "      <td>90.0</td>\n",
       "    </tr>\n",
       "    <tr>\n",
       "      <th>bike_type_smart_count</th>\n",
       "      <td>12102.0</td>\n",
       "      <td>1.178979</td>\n",
       "      <td>2.680218</td>\n",
       "      <td>0.0</td>\n",
       "      <td>0.0</td>\n",
       "      <td>0.0</td>\n",
       "      <td>1.0</td>\n",
       "      <td>34.0</td>\n",
       "    </tr>\n",
       "    <tr>\n",
       "      <th>season</th>\n",
       "      <td>12102.0</td>\n",
       "      <td>2.553710</td>\n",
       "      <td>0.963450</td>\n",
       "      <td>1.0</td>\n",
       "      <td>2.0</td>\n",
       "      <td>3.0</td>\n",
       "      <td>3.0</td>\n",
       "      <td>4.0</td>\n",
       "    </tr>\n",
       "    <tr>\n",
       "      <th>holiday</th>\n",
       "      <td>12102.0</td>\n",
       "      <td>0.028673</td>\n",
       "      <td>0.166893</td>\n",
       "      <td>0.0</td>\n",
       "      <td>0.0</td>\n",
       "      <td>0.0</td>\n",
       "      <td>0.0</td>\n",
       "      <td>1.0</td>\n",
       "    </tr>\n",
       "    <tr>\n",
       "      <th>workingday</th>\n",
       "      <td>12102.0</td>\n",
       "      <td>0.691539</td>\n",
       "      <td>0.461877</td>\n",
       "      <td>0.0</td>\n",
       "      <td>0.0</td>\n",
       "      <td>1.0</td>\n",
       "      <td>1.0</td>\n",
       "      <td>1.0</td>\n",
       "    </tr>\n",
       "  </tbody>\n",
       "</table>\n",
       "</div>"
      ],
      "text/plain": [
       "                                    count        mean          std  min  \\\n",
       "used_count                        12102.0   23.149975    19.200349  1.0   \n",
       "total_duration                    12102.0  950.581226  1067.561784  1.0   \n",
       "plan_duration_day_count           12102.0    8.949843    10.180044  0.0   \n",
       "plan_duration_month_count         12102.0   12.127665    10.114859  0.0   \n",
       "plan_duration_year_count          12102.0    2.071476     2.469602  0.0   \n",
       "trip_route_type_one_way_count     12102.0   17.450091    14.317643  0.0   \n",
       "trip_route_type_round_trip_count  12102.0    5.699884     5.997782  0.0   \n",
       "passholder_type_walk_up_count     12102.0    6.394728     7.418796  0.0   \n",
       "passholder_type_one_day_count     12102.0    2.637167     3.764445  0.0   \n",
       "passholder_type_monthly_count     12102.0   11.746736    10.039064  0.0   \n",
       "passholder_type_annual_count      12102.0    1.990084     2.411525  0.0   \n",
       "bike_type_standard_count          12102.0   14.785242    13.719524  0.0   \n",
       "bike_type_electric_count          12102.0    7.185754     6.768514  0.0   \n",
       "bike_type_smart_count             12102.0    1.178979     2.680218  0.0   \n",
       "season                            12102.0    2.553710     0.963450  1.0   \n",
       "holiday                           12102.0    0.028673     0.166893  0.0   \n",
       "workingday                        12102.0    0.691539     0.461877  0.0   \n",
       "\n",
       "                                    25%    50%     75%      max  \n",
       "used_count                          6.0   20.0    36.0    142.0  \n",
       "total_duration                    147.0  603.0  1376.0  10558.0  \n",
       "plan_duration_day_count             1.0    5.0    13.0     79.0  \n",
       "plan_duration_month_count           3.0   11.0    19.0    112.0  \n",
       "plan_duration_year_count            0.0    1.0     3.0     31.0  \n",
       "trip_route_type_one_way_count       4.0   15.0    27.0    130.0  \n",
       "trip_route_type_round_trip_count    1.0    4.0     9.0     56.0  \n",
       "passholder_type_walk_up_count       1.0    4.0     9.0     60.0  \n",
       "passholder_type_one_day_count       0.0    1.0     4.0     35.0  \n",
       "passholder_type_monthly_count       3.0   10.0    18.0    112.0  \n",
       "passholder_type_annual_count        0.0    1.0     3.0     31.0  \n",
       "bike_type_standard_count            3.0   11.0    22.0     83.0  \n",
       "bike_type_electric_count            2.0    6.0    11.0     90.0  \n",
       "bike_type_smart_count               0.0    0.0     1.0     34.0  \n",
       "season                              2.0    3.0     3.0      4.0  \n",
       "holiday                             0.0    0.0     0.0      1.0  \n",
       "workingday                          0.0    1.0     1.0      1.0  "
      ]
     },
     "execution_count": 19,
     "metadata": {},
     "output_type": "execute_result"
    }
   ],
   "source": [
    "app_trip_cnt_by_hour_df.describe().T"
   ]
  },
  {
   "cell_type": "code",
   "execution_count": 20,
   "id": "12f59379",
   "metadata": {
    "scrolled": false
   },
   "outputs": [
    {
     "data": {
      "text/plain": [
       "<AxesSubplot:xlabel='holiday', ylabel='used_count'>"
      ]
     },
     "execution_count": 20,
     "metadata": {},
     "output_type": "execute_result"
    },
    {
     "data": {
      "image/png": "[encoded data removed]",
      "text/plain": [
       "<Figure size 1152x576 with 4 Axes>"
      ]
     },
     "metadata": {
      "needs_background": "light"
     },
     "output_type": "display_data"
    }
   ],
   "source": [
    "# pointplot in categorical variable\n",
    "fig, axes = plt.subplots(nrows=2, ncols=2)\n",
    "fig.set_size_inches(16,8)\n",
    "\n",
    "sns.pointplot(data=app_trip_cnt_by_hour_df, x='workingday', y='used_count', ax=axes[0][0])\n",
    "sns.pointplot(data=app_trip_cnt_by_hour_df, x='season', y='used_count', ax=axes[0][1])\n",
    "sns.pointplot(data=app_trip_cnt_by_hour_df, x='holiday', y='used_count', ax=axes[1][0])"
   ]
  },
  {
   "cell_type": "markdown",
   "id": "8c2ca11f",
   "metadata": {},
   "source": [
    "### Correlation matrix"
   ]
  },
  {
   "cell_type": "code",
   "execution_count": 21,
   "id": "4e9d5da9",
   "metadata": {},
   "outputs": [
    {
     "data": {
      "text/plain": [
       "<AxesSubplot:>"
      ]
     },
     "execution_count": 21,
     "metadata": {},
     "output_type": "execute_result"
    },
    {
     "data": {
      "image/png": "[encoded data removed]",
      "text/plain": [
       "<Figure size 720x720 with 2 Axes>"
      ]
     },
     "metadata": {
      "needs_background": "light"
     },
     "output_type": "display_data"
    }
   ],
   "source": [
    "corr = app_trip_cnt_by_hour_df.corr()\n",
    "mask = np.array(corr)\n",
    "mask[np.tril_indices_from(mask)] = False\n",
    "fig = plt.gcf()\n",
    "fig.set_size_inches(10,10)\n",
    "sns.heatmap(data=corr,\n",
    "            mask=mask,\n",
    "            cmap='Oranges',\n",
    "            square=True,\n",
    "            annot=True,\n",
    "            cbar=True)\n",
    "\n",
    "# data[u'col'].corr(data[u'col']) # specific corr"
   ]
  },
  {
   "cell_type": "code",
   "execution_count": 22,
   "id": "4e0ef63e",
   "metadata": {},
   "outputs": [
    {
     "data": {
      "text/plain": [
       "trip_id            0\n",
       "duration           0\n",
       "start_station      0\n",
       "start_lat          0\n",
       "start_lon          0\n",
       "end_station        0\n",
       "end_lat            0\n",
       "end_lon            0\n",
       "bike_id            0\n",
       "plan_duration      0\n",
       "trip_route_type    0\n",
       "passholder_type    0\n",
       "bike_type          0\n",
       "distance           0\n",
       "distance_cal       0\n",
       "used_date          0\n",
       "used_hour          0\n",
       "season             0\n",
       "holiday            0\n",
       "workingday         0\n",
       "start_datetime     0\n",
       "end_datetime       0\n",
       "start_hour         0\n",
       "ptd                0\n",
       "dtype: int64"
      ]
     },
     "execution_count": 22,
     "metadata": {},
     "output_type": "execute_result"
    }
   ],
   "source": [
    "# check missing value\n",
    "trip_data_by_year_df.isna().sum()"
   ]
  },
  {
   "cell_type": "code",
   "execution_count": 23,
   "id": "c5d2cd1b",
   "metadata": {},
   "outputs": [
    {
     "data": {
      "text/plain": [
       "trip_id            0\n",
       "duration           0\n",
       "start_station      0\n",
       "start_lat          0\n",
       "start_lon          0\n",
       "end_station        0\n",
       "end_lat            0\n",
       "end_lon            0\n",
       "bike_id            0\n",
       "plan_duration      0\n",
       "trip_route_type    0\n",
       "passholder_type    0\n",
       "bike_type          0\n",
       "distance           0\n",
       "distance_cal       0\n",
       "used_date          0\n",
       "used_hour          0\n",
       "season             0\n",
       "holiday            0\n",
       "workingday         0\n",
       "start_datetime     0\n",
       "end_datetime       0\n",
       "start_hour         0\n",
       "ptd                0\n",
       "dtype: int64"
      ]
     },
     "execution_count": 23,
     "metadata": {},
     "output_type": "execute_result"
    }
   ],
   "source": [
    "trip_data_by_year_df = trip_data_by_year_df.dropna(how='any')\n",
    "trip_data_by_year_df.isnull().sum()"
   ]
  },
  {
   "cell_type": "code",
   "execution_count": 24,
   "id": "8ea8c7c4",
   "metadata": {},
   "outputs": [
    {
     "data": {
      "text/plain": [
       "{'algorithm': 'auto',\n",
       " 'eps': 0.5,\n",
       " 'leaf_size': 30,\n",
       " 'metric': 'euclidean',\n",
       " 'metric_params': None,\n",
       " 'min_samples': 5,\n",
       " 'n_jobs': None,\n",
       " 'p': None}"
      ]
     },
     "execution_count": 24,
     "metadata": {},
     "output_type": "execute_result"
    }
   ],
   "source": [
    "from sklearn.cluster import KMeans\n",
    "from sklearn import cluster\n",
    "cluster.DBSCAN().get_params()"
   ]
  },
  {
   "cell_type": "code",
   "execution_count": 25,
   "id": "396b0b03",
   "metadata": {},
   "outputs": [],
   "source": [
    "coordinate_data = trip_data_by_year_df.loc[:,['start_lon','start_lat']] # 取第’start_lon, start_lat’列的所有记录，df.loc[0, :]取第0行的所有记录"
   ]
  },
  {
   "cell_type": "code",
   "execution_count": 26,
   "id": "d9b6ec43",
   "metadata": {},
   "outputs": [
    {
     "data": {
      "text/html": [
       "<div>\n",
       "<style scoped>\n",
       "    .dataframe tbody tr th:only-of-type {\n",
       "        vertical-align: middle;\n",
       "    }\n",
       "\n",
       "    .dataframe tbody tr th {\n",
       "        vertical-align: top;\n",
       "    }\n",
       "\n",
       "    .dataframe thead th {\n",
       "        text-align: right;\n",
       "    }\n",
       "</style>\n",
       "<table border=\"1\" class=\"dataframe\">\n",
       "  <thead>\n",
       "    <tr style=\"text-align: right;\">\n",
       "      <th></th>\n",
       "      <th>start_lon</th>\n",
       "      <th>start_lat</th>\n",
       "    </tr>\n",
       "  </thead>\n",
       "  <tbody>\n",
       "    <tr>\n",
       "      <th>0</th>\n",
       "      <td>-118.258537</td>\n",
       "      <td>34.048500</td>\n",
       "    </tr>\n",
       "    <tr>\n",
       "      <th>1</th>\n",
       "      <td>-118.296593</td>\n",
       "      <td>34.069271</td>\n",
       "    </tr>\n",
       "    <tr>\n",
       "      <th>2</th>\n",
       "      <td>-118.264557</td>\n",
       "      <td>34.051102</td>\n",
       "    </tr>\n",
       "    <tr>\n",
       "      <th>3</th>\n",
       "      <td>-118.263382</td>\n",
       "      <td>34.042061</td>\n",
       "    </tr>\n",
       "    <tr>\n",
       "      <th>4</th>\n",
       "      <td>-118.278419</td>\n",
       "      <td>34.053230</td>\n",
       "    </tr>\n",
       "    <tr>\n",
       "      <th>5</th>\n",
       "      <td>-118.471550</td>\n",
       "      <td>33.984341</td>\n",
       "    </tr>\n",
       "    <tr>\n",
       "      <th>6</th>\n",
       "      <td>-118.471550</td>\n",
       "      <td>33.984341</td>\n",
       "    </tr>\n",
       "    <tr>\n",
       "      <th>7</th>\n",
       "      <td>-118.471741</td>\n",
       "      <td>33.988129</td>\n",
       "    </tr>\n",
       "    <tr>\n",
       "      <th>8</th>\n",
       "      <td>-118.248253</td>\n",
       "      <td>34.050880</td>\n",
       "    </tr>\n",
       "    <tr>\n",
       "      <th>9</th>\n",
       "      <td>-118.248253</td>\n",
       "      <td>34.050880</td>\n",
       "    </tr>\n",
       "  </tbody>\n",
       "</table>\n",
       "</div>"
      ],
      "text/plain": [
       "    start_lon  start_lat\n",
       "0 -118.258537  34.048500\n",
       "1 -118.296593  34.069271\n",
       "2 -118.264557  34.051102\n",
       "3 -118.263382  34.042061\n",
       "4 -118.278419  34.053230\n",
       "5 -118.471550  33.984341\n",
       "6 -118.471550  33.984341\n",
       "7 -118.471741  33.988129\n",
       "8 -118.248253  34.050880\n",
       "9 -118.248253  34.050880"
      ]
     },
     "execution_count": 26,
     "metadata": {},
     "output_type": "execute_result"
    }
   ],
   "source": [
    "coordinate_data.head(10)"
   ]
  },
  {
   "cell_type": "code",
   "execution_count": 27,
   "id": "7a18990c",
   "metadata": {},
   "outputs": [
    {
     "data": {
      "text/plain": [
       "[<matplotlib.lines.Line2D at 0x13000d6d0>]"
      ]
     },
     "execution_count": 27,
     "metadata": {},
     "output_type": "execute_result"
    },
    {
     "data": {
      "image/png": "[encoded data removed]",
      "text/plain": [
       "<Figure size 432x288 with 1 Axes>"
      ]
     },
     "metadata": {
      "needs_background": "light"
     },
     "output_type": "display_data"
    }
   ],
   "source": [
    "from sklearn import metrics\n",
    "from sklearn.neighbors import NearestNeighbors\n",
    "\n",
    "parking_min_bikes = 50\n",
    "min_neighbors = 50\n",
    "nbrs = NearestNeighbors(n_neighbors=parking_min_bikes).fit(coordinate_data)  # 找到距离最近的50个点\n",
    "distances, indices = nbrs.kneighbors(coordinate_data)  # 计算每个点最近的50个点的距离\n",
    "dist = distances[:, (min_neighbors-1)]\n",
    "dist_ = np.sort(dist)\n",
    "plt.plot(dist_)"
   ]
  },
  {
   "cell_type": "code",
   "execution_count": 28,
   "id": "511f81c1",
   "metadata": {},
   "outputs": [
    {
     "name": "stdout",
     "output_type": "stream",
     "text": [
      "count:\n",
      " 0      91189\n",
      " 4      15551\n",
      " 107     8936\n",
      " 60      8648\n",
      " 26      7691\n",
      "        ...  \n",
      " 123       89\n",
      " 105       77\n",
      " 118       61\n",
      " 124       55\n",
      "-1         18\n",
      "Length: 126, dtype: int64\n",
      "DBI=0.4756010655366098\n"
     ]
    },
    {
     "data": {
      "image/png": "[encoded data removed]",
      "text/plain": [
       "<Figure size 432x288 with 1 Axes>"
      ]
     },
     "metadata": {
      "needs_background": "light"
     },
     "output_type": "display_data"
    }
   ],
   "source": [
    "mdl_dbscan = cluster.DBSCAN(eps=0.004, min_samples=parking_min_bikes).fit(coordinate_data) # 聚类模型\n",
    "# 模型预测的结果有多少个类，每个类有多少个样本\n",
    "count = pd.Series(mdl_dbscan.labels_).value_counts()  # 展示有多少类，每类有多少个样本，即查看各个类别上的个数\n",
    "print('count:')\n",
    "print('{}'.format(count))\n",
    "\n",
    "plt.figure()\n",
    "plt.scatter(x='start_lon', y='start_lat', data=coordinate_data, c=mdl_dbscan.labels_)\n",
    "# 聚类模型有两种评价模型，一种是组内距离越小越好，一种是组间距离越大越好 （组：类别）\n",
    "DBI = metrics.davies_bouldin_score(coordinate_data, mdl_dbscan.labels_)\n",
    "print('DBI={}'.format(DBI)) # 聚类模型评价指标"
   ]
  },
  {
   "cell_type": "code",
   "execution_count": 29,
   "id": "0ce287c1",
   "metadata": {},
   "outputs": [
    {
     "name": "stdout",
     "output_type": "stream",
     "text": [
      "KMeans(n_clusters=3)\n"
     ]
    }
   ],
   "source": [
    "cluster_cnt = 3\n",
    "\n",
    "from sklearn.cluster import KMeans\n",
    "# 模型建立(预估器流程)\n",
    "estimator = KMeans(n_clusters=cluster_cnt)\n",
    "mdl_kmeans = estimator.fit(coordinate_data)\n",
    "print(mdl_kmeans)"
   ]
  },
  {
   "cell_type": "code",
   "execution_count": 30,
   "id": "5b592580",
   "metadata": {},
   "outputs": [
    {
     "name": "stdout",
     "output_type": "stream",
     "text": [
      "2    193142\n",
      "0     82110\n",
      "1       281\n",
      "dtype: int64\n"
     ]
    }
   ],
   "source": [
    "# 统计每个类的个数\n",
    "count2 = pd.Series(mdl_kmeans.labels_).value_counts()\n",
    "print(count2)"
   ]
  },
  {
   "cell_type": "code",
   "execution_count": 31,
   "id": "1441df3b",
   "metadata": {},
   "outputs": [
    {
     "name": "stdout",
     "output_type": "stream",
     "text": [
      "    start_lon  start_lat\n",
      "0 -118.453293  33.994708\n",
      "1   37.606541  55.705528\n",
      "2 -118.267300  34.056115\n"
     ]
    }
   ],
   "source": [
    "# 每个类中的坐标\n",
    "km_centor = pd.DataFrame(mdl_kmeans.cluster_centers_, columns=['start_lon','start_lat'])\n",
    "print(km_centor)"
   ]
  },
  {
   "cell_type": "code",
   "execution_count": 32,
   "id": "666173a1",
   "metadata": {},
   "outputs": [
    {
     "data": {
      "text/plain": [
       "array([[-118.45329284,   33.99470811],\n",
       "       [  37.606541  ,   55.705528  ],\n",
       "       [-118.2672998 ,   34.05611504]])"
      ]
     },
     "execution_count": 32,
     "metadata": {},
     "output_type": "execute_result"
    }
   ],
   "source": [
    "# 类中心\n",
    "mdl_kmeans.cluster_centers_"
   ]
  },
  {
   "cell_type": "code",
   "execution_count": 33,
   "id": "34cab4aa",
   "metadata": {},
   "outputs": [
    {
     "name": "stdout",
     "output_type": "stream",
     "text": [
      "[-118.2672998    34.05611504]\n",
      "[-118.45329284   33.99470811]\n",
      "[37.606541 55.705528]\n"
     ]
    }
   ],
   "source": [
    "# 数量最多的十个类中心点\n",
    "center_10=list(count2.index[:10])\n",
    "center_10_cordinate=[]\n",
    "for index in center_10:\n",
    "    cordinate=mdl_kmeans.cluster_centers_[index]\n",
    "    print(cordinate)\n",
    "    center_10_cordinate.append(cordinate)"
   ]
  },
  {
   "cell_type": "code",
   "execution_count": 34,
   "id": "637fa547",
   "metadata": {},
   "outputs": [
    {
     "data": {
      "text/plain": [
       "<matplotlib.collections.PathCollection at 0x1300ef7c0>"
      ]
     },
     "execution_count": 34,
     "metadata": {},
     "output_type": "execute_result"
    },
    {
     "data": {
      "image/png": "[encoded data removed]",
      "text/plain": [
       "<Figure size 800x600 with 1 Axes>"
      ]
     },
     "metadata": {
      "needs_background": "light"
     },
     "output_type": "display_data"
    }
   ],
   "source": [
    "plt.rcParams['savefig.dpi'] = 300 # 像素\n",
    "plt.rcParams['figure.dpi'] = 100 # 分辨率\n",
    "plt.rcParams['figure.figsize']=(8.0, 6.0) # 图片大小比例\n",
    "plt.figure()\n",
    "plt.scatter(x='start_lon', y='start_lat', data=coordinate_data, c=mdl_kmeans.labels_, s=0.5) \n",
    "plt.scatter(x='start_lon', y='start_lat', data=km_centor, c='k', s=4)\n",
    "plt.scatter(x='start_lon', y='start_lat', data=center_10_cordinate, c='r', marker='*', s=20)\n",
    "# plt.savefig('mobike.png')"
   ]
  },
  {
   "cell_type": "code",
   "execution_count": 35,
   "id": "2afead59",
   "metadata": {},
   "outputs": [],
   "source": [
    "y_predict = estimator.predict(coordinate_data)"
   ]
  },
  {
   "cell_type": "code",
   "execution_count": 36,
   "id": "43d6f9c5",
   "metadata": {},
   "outputs": [
    {
     "data": {
      "text/plain": [
       "array([2, 2, 2, 2, 2, 0, 0, 0, 2, 2, 2, 2, 0, 0, 2, 0, 0, 2, 2, 2, 0, 2,\n",
       "       0, 0, 0, 0, 2, 2, 0, 2, 2, 2, 0, 0, 0, 0, 0, 0, 2, 0, 2, 0, 2, 2,\n",
       "       2, 2, 0, 2, 2, 0, 2, 0, 2, 0, 2, 0, 2, 0, 2, 2, 0, 2, 2, 2, 2, 2,\n",
       "       0, 2, 0, 0, 0, 0, 2, 0, 0, 0, 0, 0, 2, 2, 0, 2, 0, 2, 0, 0, 2, 0,\n",
       "       2, 0, 0, 2, 0, 2, 0, 0, 0, 0, 0, 0, 0, 0, 0, 2, 0, 2, 0, 0, 0, 0,\n",
       "       0, 2, 0, 0, 0, 0, 2, 0, 0, 0, 2, 2, 2, 0, 2, 0, 2, 0, 2, 2, 0, 0,\n",
       "       2, 2, 2, 0, 2, 2, 0, 2, 2, 2, 2, 2, 2, 0, 2, 0, 0, 0, 0, 2, 0, 0,\n",
       "       0, 0, 0, 0, 2, 2, 2, 2, 0, 0, 0, 0, 2, 0, 0, 2, 0, 0, 0, 2, 2, 2,\n",
       "       2, 2, 2, 2, 0, 0, 0, 0, 0, 0, 2, 2, 0, 0, 0, 2, 0, 0, 0, 0, 0, 0,\n",
       "       0, 0, 2, 0, 2, 2, 0, 2, 2, 2, 0, 0, 2, 2, 0, 0, 0, 0, 0, 0, 0, 0,\n",
       "       2, 2, 0, 2, 2, 2, 2, 2, 2, 2, 2, 2, 2, 0, 0, 0, 2, 0, 0, 0, 0, 0,\n",
       "       0, 0, 0, 0, 2, 2, 2, 2, 2, 2, 2, 2, 2, 2, 2, 2, 0, 0, 0, 2, 0, 0,\n",
       "       2, 0, 2, 0, 2, 0, 2, 2, 0, 0, 2, 2, 0, 0, 2, 2, 0, 0, 0, 2, 2, 2,\n",
       "       2, 0, 2, 0, 0, 0, 0, 0, 0, 2, 2, 0, 0, 2], dtype=int32)"
      ]
     },
     "execution_count": 36,
     "metadata": {},
     "output_type": "execute_result"
    }
   ],
   "source": [
    "y_predict[:300]"
   ]
  },
  {
   "cell_type": "code",
   "execution_count": 38,
   "id": "3f68ef48",
   "metadata": {},
   "outputs": [
    {
     "name": "stdout",
     "output_type": "stream",
     "text": [
      "0.7949950688137509\n"
     ]
    }
   ],
   "source": [
    "# 模型评估-轮廓系数\n",
    "from sklearn.metrics import silhouette_score\n",
    "ss = silhouette_score(coordinate_data, y_predict) # params: 特征，标记结果\n",
    "print(ss)"
   ]
  },
  {
   "cell_type": "code",
   "execution_count": null,
   "id": "4461cc76",
   "metadata": {},
   "outputs": [],
   "source": []
  }
 ],
 "metadata": {
  "kernelspec": {
   "display_name": "Python 3 (ipykernel)",
   "language": "python",
   "name": "python3"
  },
  "language_info": {
   "codemirror_mode": {
    "name": "ipython",
    "version": 3
   },
   "file_extension": ".py",
   "mimetype": "text/x-python",
   "name": "python",
   "nbconvert_exporter": "python",
   "pygments_lexer": "ipython3",
   "version": "3.8.2"
  }
 },
 "nbformat": 4,
 "nbformat_minor": 5
}
