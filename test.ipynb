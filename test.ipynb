{
 "cells": [
  {
   "cell_type": "code",
   "execution_count": 7,
   "id": "db6c6a97",
   "metadata": {},
   "outputs": [],
   "source": [
    "import pandas as pd\n",
    "import numpy as np\n",
    "import matplotlib.pyplot as plt\n",
    "import seaborn as sns\n",
    "from scipy import stats\n",
    "from datetime import datetime\n",
    "import warnings\n",
    "warnings.filterwarnings('ignore')\n",
    "%matplotlib inline\n",
    "\n",
    "from cluster_util.spark_util import SparkUtil\n",
    "from cluster_util.hive_util import HiveUtil"
   ]
  },
  {
   "cell_type": "markdown",
   "id": "52773392",
   "metadata": {},
   "source": [
    "## Init spark"
   ]
  },
  {
   "cell_type": "code",
   "execution_count": 8,
   "id": "e86b8efe",
   "metadata": {},
   "outputs": [
    {
     "name": "stderr",
     "output_type": "stream",
     "text": [
      "2021-11-24 16:14:29,050\tFile \"spark_util.py\", line 25\tINFO: Build spark session ...\n",
      "WARNING: An illegal reflective access operation has occurred\n",
      "WARNING: Illegal reflective access by org.apache.spark.unsafe.Platform (file:/Users/luyao/Workspace/PycharmProjects/SharedBikeAnalysisProject/venv/lib/python3.8/site-packages/pyspark/jars/spark-unsafe_2.12-3.2.0.jar) to constructor java.nio.DirectByteBuffer(long,int)\n",
      "WARNING: Please consider reporting this to the maintainers of org.apache.spark.unsafe.Platform\n",
      "WARNING: Use --illegal-access=warn to enable warnings of further illegal reflective access operations\n",
      "WARNING: All illegal access operations will be denied in a future release\n",
      "Using Spark's default log4j profile: org/apache/spark/log4j-defaults.properties\n",
      "Setting default log level to \"WARN\".\n",
      "To adjust logging level use sc.setLogLevel(newLevel). For SparkR, use setLogLevel(newLevel).\n",
      "21/11/24 16:14:31 WARN NativeCodeLoader: Unable to load native-hadoop library for your platform... using builtin-java classes where applicable\n"
     ]
    }
   ],
   "source": [
    "spark = SparkUtil().build_spark_session(app_name=\"Shared Bike Analysis System notebook\")"
   ]
  },
  {
   "cell_type": "code",
   "execution_count": 9,
   "id": "dd9f1516",
   "metadata": {},
   "outputs": [
    {
     "name": "stdout",
     "output_type": "stream",
     "text": [
      "+----------+\n",
      "| namespace|\n",
      "+----------+\n",
      "|   default|\n",
      "|sharedbike|\n",
      "+----------+\n",
      "\n"
     ]
    }
   ],
   "source": [
    "spark.sql('show databases').show()"
   ]
  },
  {
   "cell_type": "code",
   "execution_count": 10,
   "id": "e5174770",
   "metadata": {},
   "outputs": [
    {
     "name": "stderr",
     "output_type": "stream",
     "text": [
      "\r",
      "[Stage 0:>                                                          (0 + 0) / 1]\r",
      "\r",
      "                                                                                \r"
     ]
    },
    {
     "name": "stdout",
     "output_type": "stream",
     "text": [
      "+----------+------------+-----------+\n",
      "| namespace|   tableName|isTemporary|\n",
      "+----------+------------+-----------+\n",
      "|sharedbike|trip_details|      false|\n",
      "+----------+------------+-----------+\n",
      "\n"
     ]
    }
   ],
   "source": [
    "spark.sql('use sharedbike')\n",
    "spark.sql('show tables').show()"
   ]
  },
  {
   "cell_type": "code",
   "execution_count": 11,
   "id": "dd601344",
   "metadata": {},
   "outputs": [],
   "source": [
    "ptd = \"2021\"\n",
    "desc_list_names = ['duration', 'start_lat', 'start_lon', 'end_lat', 'end_lon', 'plan_duration',  'trip_route_type',\n",
    "                               'passholder_type', 'bike_type', 'distance', 'season', 'holiday', 'workingday']\n",
    "df_by_year = spark.sql('select {} from trip_details where ptd={};'.format(','.join(desc_list_names), ptd))"
   ]
  },
  {
   "cell_type": "code",
   "execution_count": 12,
   "id": "0a1c4cb9",
   "metadata": {},
   "outputs": [
    {
     "name": "stderr",
     "output_type": "stream",
     "text": [
      "\r",
      "[Stage 1:>                                                          (0 + 7) / 7]\r",
      "\r",
      "                                                                                \r"
     ]
    },
    {
     "data": {
      "text/html": [
       "<div>\n",
       "<style scoped>\n",
       "    .dataframe tbody tr th:only-of-type {\n",
       "        vertical-align: middle;\n",
       "    }\n",
       "\n",
       "    .dataframe tbody tr th {\n",
       "        vertical-align: top;\n",
       "    }\n",
       "\n",
       "    .dataframe thead th {\n",
       "        text-align: right;\n",
       "    }\n",
       "</style>\n",
       "<table border=\"1\" class=\"dataframe\">\n",
       "  <thead>\n",
       "    <tr style=\"text-align: right;\">\n",
       "      <th></th>\n",
       "      <th>count</th>\n",
       "      <th>mean</th>\n",
       "      <th>std</th>\n",
       "      <th>min</th>\n",
       "      <th>25%</th>\n",
       "      <th>50%</th>\n",
       "      <th>75%</th>\n",
       "      <th>max</th>\n",
       "    </tr>\n",
       "  </thead>\n",
       "  <tbody>\n",
       "    <tr>\n",
       "      <th>duration</th>\n",
       "      <td>153989.0</td>\n",
       "      <td>41.147673</td>\n",
       "      <td>98.049854</td>\n",
       "      <td>1.000000</td>\n",
       "      <td>9.000000</td>\n",
       "      <td>19.000000</td>\n",
       "      <td>37.000000</td>\n",
       "      <td>1440.000000</td>\n",
       "    </tr>\n",
       "    <tr>\n",
       "      <th>start_lat</th>\n",
       "      <td>153989.0</td>\n",
       "      <td>34.029836</td>\n",
       "      <td>0.038370</td>\n",
       "      <td>33.928459</td>\n",
       "      <td>33.996239</td>\n",
       "      <td>34.038609</td>\n",
       "      <td>34.050880</td>\n",
       "      <td>34.186569</td>\n",
       "    </tr>\n",
       "    <tr>\n",
       "      <th>start_lon</th>\n",
       "      <td>153989.0</td>\n",
       "      <td>-118.345096</td>\n",
       "      <td>0.096136</td>\n",
       "      <td>-118.491341</td>\n",
       "      <td>-118.451248</td>\n",
       "      <td>-118.291496</td>\n",
       "      <td>-118.258537</td>\n",
       "      <td>-118.225410</td>\n",
       "    </tr>\n",
       "    <tr>\n",
       "      <th>end_lat</th>\n",
       "      <td>153989.0</td>\n",
       "      <td>34.029810</td>\n",
       "      <td>0.038001</td>\n",
       "      <td>33.928459</td>\n",
       "      <td>33.998341</td>\n",
       "      <td>34.037460</td>\n",
       "      <td>34.050480</td>\n",
       "      <td>34.186569</td>\n",
       "    </tr>\n",
       "    <tr>\n",
       "      <th>end_lon</th>\n",
       "      <td>153989.0</td>\n",
       "      <td>-118.345834</td>\n",
       "      <td>0.096722</td>\n",
       "      <td>-118.491341</td>\n",
       "      <td>-118.451248</td>\n",
       "      <td>-118.291718</td>\n",
       "      <td>-118.258537</td>\n",
       "      <td>-118.225410</td>\n",
       "    </tr>\n",
       "    <tr>\n",
       "      <th>plan_duration</th>\n",
       "      <td>153989.0</td>\n",
       "      <td>48.578457</td>\n",
       "      <td>102.870918</td>\n",
       "      <td>1.000000</td>\n",
       "      <td>1.000000</td>\n",
       "      <td>30.000000</td>\n",
       "      <td>30.000000</td>\n",
       "      <td>999.000000</td>\n",
       "    </tr>\n",
       "    <tr>\n",
       "      <th>trip_route_type</th>\n",
       "      <td>153989.0</td>\n",
       "      <td>1.243537</td>\n",
       "      <td>0.429218</td>\n",
       "      <td>1.000000</td>\n",
       "      <td>1.000000</td>\n",
       "      <td>1.000000</td>\n",
       "      <td>1.000000</td>\n",
       "      <td>2.000000</td>\n",
       "    </tr>\n",
       "    <tr>\n",
       "      <th>passholder_type</th>\n",
       "      <td>153988.0</td>\n",
       "      <td>2.317849</td>\n",
       "      <td>1.024294</td>\n",
       "      <td>1.000000</td>\n",
       "      <td>1.000000</td>\n",
       "      <td>3.000000</td>\n",
       "      <td>3.000000</td>\n",
       "      <td>4.000000</td>\n",
       "    </tr>\n",
       "    <tr>\n",
       "      <th>bike_type</th>\n",
       "      <td>153989.0</td>\n",
       "      <td>1.278773</td>\n",
       "      <td>0.471785</td>\n",
       "      <td>1.000000</td>\n",
       "      <td>1.000000</td>\n",
       "      <td>1.000000</td>\n",
       "      <td>2.000000</td>\n",
       "      <td>3.000000</td>\n",
       "    </tr>\n",
       "    <tr>\n",
       "      <th>distance</th>\n",
       "      <td>153989.0</td>\n",
       "      <td>29.592955</td>\n",
       "      <td>35.449078</td>\n",
       "      <td>0.000000</td>\n",
       "      <td>4.025301</td>\n",
       "      <td>20.554560</td>\n",
       "      <td>41.013824</td>\n",
       "      <td>517.316467</td>\n",
       "    </tr>\n",
       "    <tr>\n",
       "      <th>season</th>\n",
       "      <td>153989.0</td>\n",
       "      <td>2.232478</td>\n",
       "      <td>0.831939</td>\n",
       "      <td>1.000000</td>\n",
       "      <td>2.000000</td>\n",
       "      <td>2.000000</td>\n",
       "      <td>3.000000</td>\n",
       "      <td>4.000000</td>\n",
       "    </tr>\n",
       "    <tr>\n",
       "      <th>holiday</th>\n",
       "      <td>153989.0</td>\n",
       "      <td>0.034710</td>\n",
       "      <td>0.183046</td>\n",
       "      <td>0.000000</td>\n",
       "      <td>0.000000</td>\n",
       "      <td>0.000000</td>\n",
       "      <td>0.000000</td>\n",
       "      <td>1.000000</td>\n",
       "    </tr>\n",
       "    <tr>\n",
       "      <th>workingday</th>\n",
       "      <td>153989.0</td>\n",
       "      <td>0.637623</td>\n",
       "      <td>0.480688</td>\n",
       "      <td>0.000000</td>\n",
       "      <td>0.000000</td>\n",
       "      <td>1.000000</td>\n",
       "      <td>1.000000</td>\n",
       "      <td>1.000000</td>\n",
       "    </tr>\n",
       "  </tbody>\n",
       "</table>\n",
       "</div>"
      ],
      "text/plain": [
       "                    count        mean         std         min         25%  \\\n",
       "duration         153989.0   41.147673   98.049854    1.000000    9.000000   \n",
       "start_lat        153989.0   34.029836    0.038370   33.928459   33.996239   \n",
       "start_lon        153989.0 -118.345096    0.096136 -118.491341 -118.451248   \n",
       "end_lat          153989.0   34.029810    0.038001   33.928459   33.998341   \n",
       "end_lon          153989.0 -118.345834    0.096722 -118.491341 -118.451248   \n",
       "plan_duration    153989.0   48.578457  102.870918    1.000000    1.000000   \n",
       "trip_route_type  153989.0    1.243537    0.429218    1.000000    1.000000   \n",
       "passholder_type  153988.0    2.317849    1.024294    1.000000    1.000000   \n",
       "bike_type        153989.0    1.278773    0.471785    1.000000    1.000000   \n",
       "distance         153989.0   29.592955   35.449078    0.000000    4.025301   \n",
       "season           153989.0    2.232478    0.831939    1.000000    2.000000   \n",
       "holiday          153989.0    0.034710    0.183046    0.000000    0.000000   \n",
       "workingday       153989.0    0.637623    0.480688    0.000000    0.000000   \n",
       "\n",
       "                        50%         75%          max  \n",
       "duration          19.000000   37.000000  1440.000000  \n",
       "start_lat         34.038609   34.050880    34.186569  \n",
       "start_lon       -118.291496 -118.258537  -118.225410  \n",
       "end_lat           34.037460   34.050480    34.186569  \n",
       "end_lon         -118.291718 -118.258537  -118.225410  \n",
       "plan_duration     30.000000   30.000000   999.000000  \n",
       "trip_route_type    1.000000    1.000000     2.000000  \n",
       "passholder_type    3.000000    3.000000     4.000000  \n",
       "bike_type          1.000000    2.000000     3.000000  \n",
       "distance          20.554560   41.013824   517.316467  \n",
       "season             2.000000    3.000000     4.000000  \n",
       "holiday            0.000000    0.000000     1.000000  \n",
       "workingday         1.000000    1.000000     1.000000  "
      ]
     },
     "execution_count": 12,
     "metadata": {},
     "output_type": "execute_result"
    }
   ],
   "source": [
    "df_by_year.toPandas().describe().T"
   ]
  },
  {
   "cell_type": "code",
   "execution_count": 55,
   "id": "1bd20aff",
   "metadata": {},
   "outputs": [],
   "source": [
    "spark.stop()"
   ]
  },
  {
   "cell_type": "markdown",
   "id": "544f1099",
   "metadata": {},
   "source": [
    "## Feature analysis"
   ]
  },
  {
   "cell_type": "code",
   "execution_count": 88,
   "id": "a545b4fb",
   "metadata": {},
   "outputs": [],
   "source": [
    "trip_data_by_year_df = pd.read_csv('results/trip_details/part-00000-3efc457b-4c9c-411e-9f02-ea912baea6a6-c000.csv')"
   ]
  },
  {
   "cell_type": "code",
   "execution_count": 95,
   "id": "7eb7f4d5",
   "metadata": {},
   "outputs": [
    {
     "data": {
      "text/plain": [
       "trip_id            0\n",
       "duration           0\n",
       "start_station      0\n",
       "start_lat          0\n",
       "start_lon          0\n",
       "end_station        0\n",
       "end_lat            0\n",
       "end_lon            0\n",
       "bike_id            8\n",
       "plan_duration      0\n",
       "trip_route_type    0\n",
       "passholder_type    1\n",
       "bike_type          0\n",
       "distance           0\n",
       "distance_cal       0\n",
       "used_date          0\n",
       "used_hour          0\n",
       "season             0\n",
       "holiday            0\n",
       "workingday         0\n",
       "start_datetime     0\n",
       "end_datetime       0\n",
       "start_hour         0\n",
       "ptd                0\n",
       "dtype: int64"
      ]
     },
     "execution_count": 95,
     "metadata": {},
     "output_type": "execute_result"
    }
   ],
   "source": [
    "# check missing value\n",
    "trip_data_by_year_df.isna().sum()"
   ]
  },
  {
   "cell_type": "code",
   "execution_count": 96,
   "id": "7f776034",
   "metadata": {},
   "outputs": [
    {
     "data": {
      "text/plain": [
       "trip_id            0\n",
       "duration           0\n",
       "start_station      0\n",
       "start_lat          0\n",
       "start_lon          0\n",
       "end_station        0\n",
       "end_lat            0\n",
       "end_lon            0\n",
       "bike_id            0\n",
       "plan_duration      0\n",
       "trip_route_type    0\n",
       "passholder_type    0\n",
       "bike_type          0\n",
       "distance           0\n",
       "distance_cal       0\n",
       "used_date          0\n",
       "used_hour          0\n",
       "season             0\n",
       "holiday            0\n",
       "workingday         0\n",
       "start_datetime     0\n",
       "end_datetime       0\n",
       "start_hour         0\n",
       "ptd                0\n",
       "dtype: int64"
      ]
     },
     "execution_count": 96,
     "metadata": {},
     "output_type": "execute_result"
    }
   ],
   "source": [
    "# remove missing value\n",
    "trip_data_by_year_df = trip_data_by_year_df.dropna(how='any')\n",
    "trip_data_by_year_df.isnull().sum()"
   ]
  },
  {
   "cell_type": "code",
   "execution_count": 97,
   "id": "31705b46",
   "metadata": {},
   "outputs": [
    {
     "name": "stdout",
     "output_type": "stream",
     "text": [
      "<class 'pandas.core.frame.DataFrame'>\n",
      "Int64Index: 153980 entries, 0 to 153988\n",
      "Data columns (total 24 columns):\n",
      " #   Column           Non-Null Count   Dtype  \n",
      "---  ------           --------------   -----  \n",
      " 0   trip_id          153980 non-null  int64  \n",
      " 1   duration         153980 non-null  int64  \n",
      " 2   start_station    153980 non-null  int64  \n",
      " 3   start_lat        153980 non-null  float64\n",
      " 4   start_lon        153980 non-null  float64\n",
      " 5   end_station      153980 non-null  int64  \n",
      " 6   end_lat          153980 non-null  float64\n",
      " 7   end_lon          153980 non-null  float64\n",
      " 8   bike_id          153980 non-null  float64\n",
      " 9   plan_duration    153980 non-null  int64  \n",
      " 10  trip_route_type  153980 non-null  int64  \n",
      " 11  passholder_type  153980 non-null  float64\n",
      " 12  bike_type        153980 non-null  int64  \n",
      " 13  distance         153980 non-null  float64\n",
      " 14  distance_cal     153980 non-null  float64\n",
      " 15  used_date        153980 non-null  object \n",
      " 16  used_hour        153980 non-null  int64  \n",
      " 17  season           153980 non-null  int64  \n",
      " 18  holiday          153980 non-null  int64  \n",
      " 19  workingday       153980 non-null  int64  \n",
      " 20  start_datetime   153980 non-null  object \n",
      " 21  end_datetime     153980 non-null  object \n",
      " 22  start_hour       153980 non-null  object \n",
      " 23  ptd              153980 non-null  int64  \n",
      "dtypes: float64(8), int64(12), object(4)\n",
      "memory usage: 29.4+ MB\n"
     ]
    }
   ],
   "source": [
    "trip_data_by_year_df.info()"
   ]
  },
  {
   "cell_type": "code",
   "execution_count": 103,
   "id": "958ce91d",
   "metadata": {},
   "outputs": [
    {
     "name": "stdout",
     "output_type": "stream",
     "text": [
      "<class 'pandas.core.frame.DataFrame'>\n",
      "Int64Index: 153980 entries, 0 to 153988\n",
      "Data columns (total 24 columns):\n",
      " #   Column           Non-Null Count   Dtype  \n",
      "---  ------           --------------   -----  \n",
      " 0   trip_id          153980 non-null  int64  \n",
      " 1   duration         153980 non-null  int64  \n",
      " 2   start_station    153980 non-null  int64  \n",
      " 3   start_lat        153980 non-null  float64\n",
      " 4   start_lon        153980 non-null  float64\n",
      " 5   end_station      153980 non-null  int64  \n",
      " 6   end_lat          153980 non-null  float64\n",
      " 7   end_lon          153980 non-null  float64\n",
      " 8   bike_id          153980 non-null  float64\n",
      " 9   plan_duration    153980 non-null  int64  \n",
      " 10  trip_route_type  153980 non-null  int64  \n",
      " 11  passholder_type  153980 non-null  int64  \n",
      " 12  bike_type        153980 non-null  int64  \n",
      " 13  distance         153980 non-null  float64\n",
      " 14  distance_cal     153980 non-null  float64\n",
      " 15  used_date        153980 non-null  object \n",
      " 16  used_hour        153980 non-null  int64  \n",
      " 17  season           153980 non-null  int64  \n",
      " 18  holiday          153980 non-null  int64  \n",
      " 19  workingday       153980 non-null  int64  \n",
      " 20  start_datetime   153980 non-null  object \n",
      " 21  end_datetime     153980 non-null  object \n",
      " 22  start_hour       153980 non-null  object \n",
      " 23  ptd              153980 non-null  int64  \n",
      "dtypes: float64(7), int64(13), object(4)\n",
      "memory usage: 33.4+ MB\n"
     ]
    }
   ],
   "source": [
    "trip_data_by_year_df['passholder_type'] = trip_data_by_year_df['passholder_type'].astype('int') \n",
    "trip_data_by_year_df.info()"
   ]
  },
  {
   "cell_type": "code",
   "execution_count": 90,
   "id": "e34513c5",
   "metadata": {},
   "outputs": [
    {
     "data": {
      "text/html": [
       "<div>\n",
       "<style scoped>\n",
       "    .dataframe tbody tr th:only-of-type {\n",
       "        vertical-align: middle;\n",
       "    }\n",
       "\n",
       "    .dataframe tbody tr th {\n",
       "        vertical-align: top;\n",
       "    }\n",
       "\n",
       "    .dataframe thead th {\n",
       "        text-align: right;\n",
       "    }\n",
       "</style>\n",
       "<table border=\"1\" class=\"dataframe\">\n",
       "  <thead>\n",
       "    <tr style=\"text-align: right;\">\n",
       "      <th></th>\n",
       "      <th>trip_id</th>\n",
       "      <th>duration</th>\n",
       "      <th>start_station</th>\n",
       "      <th>start_lat</th>\n",
       "      <th>start_lon</th>\n",
       "      <th>end_station</th>\n",
       "      <th>end_lat</th>\n",
       "      <th>end_lon</th>\n",
       "      <th>bike_id</th>\n",
       "      <th>plan_duration</th>\n",
       "      <th>...</th>\n",
       "      <th>distance_cal</th>\n",
       "      <th>used_date</th>\n",
       "      <th>used_hour</th>\n",
       "      <th>season</th>\n",
       "      <th>holiday</th>\n",
       "      <th>workingday</th>\n",
       "      <th>start_datetime</th>\n",
       "      <th>end_datetime</th>\n",
       "      <th>start_hour</th>\n",
       "      <th>ptd</th>\n",
       "    </tr>\n",
       "  </thead>\n",
       "  <tbody>\n",
       "    <tr>\n",
       "      <th>0</th>\n",
       "      <td>155146002</td>\n",
       "      <td>25</td>\n",
       "      <td>4510</td>\n",
       "      <td>34.077351</td>\n",
       "      <td>-118.264549</td>\n",
       "      <td>3026</td>\n",
       "      <td>34.063179</td>\n",
       "      <td>-118.245880</td>\n",
       "      <td>16826.0</td>\n",
       "      <td>1</td>\n",
       "      <td>...</td>\n",
       "      <td>2.206</td>\n",
       "      <td>3/13/2021</td>\n",
       "      <td>12</td>\n",
       "      <td>1</td>\n",
       "      <td>0</td>\n",
       "      <td>0</td>\n",
       "      <td>2021-03-13T12:35:00.000-08:00</td>\n",
       "      <td>2021-03-13T13:00:00.000-08:00</td>\n",
       "      <td>2021-03-13 12:00:00</td>\n",
       "      <td>2021</td>\n",
       "    </tr>\n",
       "    <tr>\n",
       "      <th>1</th>\n",
       "      <td>155146874</td>\n",
       "      <td>69</td>\n",
       "      <td>4479</td>\n",
       "      <td>34.031502</td>\n",
       "      <td>-118.288742</td>\n",
       "      <td>4509</td>\n",
       "      <td>34.101639</td>\n",
       "      <td>-118.309174</td>\n",
       "      <td>6450.0</td>\n",
       "      <td>1</td>\n",
       "      <td>...</td>\n",
       "      <td>4.339</td>\n",
       "      <td>3/13/2021</td>\n",
       "      <td>12</td>\n",
       "      <td>1</td>\n",
       "      <td>0</td>\n",
       "      <td>0</td>\n",
       "      <td>2021-03-13T12:35:00.000-08:00</td>\n",
       "      <td>2021-03-13T13:44:00.000-08:00</td>\n",
       "      <td>2021-03-13 12:00:00</td>\n",
       "      <td>2021</td>\n",
       "    </tr>\n",
       "    <tr>\n",
       "      <th>2</th>\n",
       "      <td>155146873</td>\n",
       "      <td>68</td>\n",
       "      <td>4545</td>\n",
       "      <td>33.958790</td>\n",
       "      <td>-118.448280</td>\n",
       "      <td>4543</td>\n",
       "      <td>33.957180</td>\n",
       "      <td>-118.451248</td>\n",
       "      <td>16164.0</td>\n",
       "      <td>1</td>\n",
       "      <td>...</td>\n",
       "      <td>0.341</td>\n",
       "      <td>3/13/2021</td>\n",
       "      <td>12</td>\n",
       "      <td>1</td>\n",
       "      <td>0</td>\n",
       "      <td>0</td>\n",
       "      <td>2021-03-13T12:35:00.000-08:00</td>\n",
       "      <td>2021-03-13T13:43:00.000-08:00</td>\n",
       "      <td>2021-03-13 12:00:00</td>\n",
       "      <td>2021</td>\n",
       "    </tr>\n",
       "  </tbody>\n",
       "</table>\n",
       "<p>3 rows × 24 columns</p>\n",
       "</div>"
      ],
      "text/plain": [
       "     trip_id  duration  start_station  start_lat   start_lon  end_station  \\\n",
       "0  155146002        25           4510  34.077351 -118.264549         3026   \n",
       "1  155146874        69           4479  34.031502 -118.288742         4509   \n",
       "2  155146873        68           4545  33.958790 -118.448280         4543   \n",
       "\n",
       "     end_lat     end_lon  bike_id  plan_duration  ...  distance_cal  \\\n",
       "0  34.063179 -118.245880  16826.0              1  ...         2.206   \n",
       "1  34.101639 -118.309174   6450.0              1  ...         4.339   \n",
       "2  33.957180 -118.451248  16164.0              1  ...         0.341   \n",
       "\n",
       "   used_date  used_hour  season  holiday workingday  \\\n",
       "0  3/13/2021         12       1        0          0   \n",
       "1  3/13/2021         12       1        0          0   \n",
       "2  3/13/2021         12       1        0          0   \n",
       "\n",
       "                  start_datetime                   end_datetime  \\\n",
       "0  2021-03-13T12:35:00.000-08:00  2021-03-13T13:00:00.000-08:00   \n",
       "1  2021-03-13T12:35:00.000-08:00  2021-03-13T13:44:00.000-08:00   \n",
       "2  2021-03-13T12:35:00.000-08:00  2021-03-13T13:43:00.000-08:00   \n",
       "\n",
       "            start_hour   ptd  \n",
       "0  2021-03-13 12:00:00  2021  \n",
       "1  2021-03-13 12:00:00  2021  \n",
       "2  2021-03-13 12:00:00  2021  \n",
       "\n",
       "[3 rows x 24 columns]"
      ]
     },
     "execution_count": 90,
     "metadata": {},
     "output_type": "execute_result"
    }
   ],
   "source": [
    "trip_data_by_year_df.head(3)"
   ]
  },
  {
   "cell_type": "code",
   "execution_count": 117,
   "id": "4894e295",
   "metadata": {},
   "outputs": [
    {
     "data": {
      "text/plain": [
       "(153980, 24)"
      ]
     },
     "execution_count": 117,
     "metadata": {},
     "output_type": "execute_result"
    }
   ],
   "source": [
    "trip_data_by_year_df.shape"
   ]
  },
  {
   "cell_type": "markdown",
   "id": "40bb3108",
   "metadata": {},
   "source": [
    "Feature descriptions from https://bikeshare.metro.net/about/data/\n",
    "\n",
    "trip_id: Locally unique integer that identifies the trip\n",
    "\n",
    "duration: Length of trip in minutes*\n",
    "\n",
    "start_time: The date/time when the trip began, presented in ISO 8601 format in local time\n",
    "\n",
    "end_time: The date/time when the trip ended, presented in ISO 8601 format in local time\n",
    "\n",
    "start_station: The station ID where the trip originated\n",
    "\n",
    "start_lat: The latitude of the station where the trip originated\n",
    "\n",
    "start_lon: The longitude of the station where the trip originated\n",
    "\n",
    "end_station: The station ID where the trip terminated\n",
    "\n",
    "end_lat: The latitude of the station where the trip terminated\n",
    "\n",
    "end_lon: The longitude of the station where the trip terminated\n",
    "\n",
    "bike_id: Locally unique integer that identifies the bike\n",
    "\n",
    "plan_duration: The number of days that the plan the passholder is using entitles them to ride; 0 is used for a single ride plan (Walk-up)\n",
    "\n",
    "trip_route_category: \"Round Trip\" for trips starting and ending at the same station or \"One Way\" for all other trips\n",
    "\n",
    "passholder_type: The name of the passholder's plan\n",
    "\n",
    "*units are actually in but each instance is a multiple of 60 i.e. a whole minute number. We will convert this to minutes\n",
    "\n",
    "Other features are not officially described by Metro Bike Share\n",
    "\n",
    "Starting Lat-Long and Ending Lat-Long appear to be repetitions of previous station data and can be dropped safely\n",
    "\n",
    "Remaining features appear to be LA geographic information not relevant to this study, many of which include large amounts of missing data. These will also be dropped."
   ]
  },
  {
   "cell_type": "code",
   "execution_count": 124,
   "id": "383e0217",
   "metadata": {},
   "outputs": [
    {
     "data": {
      "text/html": [
       "<div>\n",
       "<style scoped>\n",
       "    .dataframe tbody tr th:only-of-type {\n",
       "        vertical-align: middle;\n",
       "    }\n",
       "\n",
       "    .dataframe tbody tr th {\n",
       "        vertical-align: top;\n",
       "    }\n",
       "\n",
       "    .dataframe thead th {\n",
       "        text-align: right;\n",
       "    }\n",
       "</style>\n",
       "<table border=\"1\" class=\"dataframe\">\n",
       "  <thead>\n",
       "    <tr style=\"text-align: right;\">\n",
       "      <th></th>\n",
       "      <th>duration</th>\n",
       "      <th>start_station</th>\n",
       "      <th>start_lat</th>\n",
       "      <th>start_lon</th>\n",
       "      <th>end_station</th>\n",
       "      <th>end_lat</th>\n",
       "      <th>end_lon</th>\n",
       "      <th>bike_id</th>\n",
       "      <th>plan_duration</th>\n",
       "      <th>trip_route_type</th>\n",
       "      <th>...</th>\n",
       "      <th>distance_cal</th>\n",
       "      <th>used_date</th>\n",
       "      <th>used_hour</th>\n",
       "      <th>season</th>\n",
       "      <th>holiday</th>\n",
       "      <th>workingday</th>\n",
       "      <th>start_datetime</th>\n",
       "      <th>end_datetime</th>\n",
       "      <th>start_hour</th>\n",
       "      <th>ptd</th>\n",
       "    </tr>\n",
       "    <tr>\n",
       "      <th>trip_id</th>\n",
       "      <th></th>\n",
       "      <th></th>\n",
       "      <th></th>\n",
       "      <th></th>\n",
       "      <th></th>\n",
       "      <th></th>\n",
       "      <th></th>\n",
       "      <th></th>\n",
       "      <th></th>\n",
       "      <th></th>\n",
       "      <th></th>\n",
       "      <th></th>\n",
       "      <th></th>\n",
       "      <th></th>\n",
       "      <th></th>\n",
       "      <th></th>\n",
       "      <th></th>\n",
       "      <th></th>\n",
       "      <th></th>\n",
       "      <th></th>\n",
       "      <th></th>\n",
       "    </tr>\n",
       "  </thead>\n",
       "  <tbody>\n",
       "    <tr>\n",
       "      <th>155146002</th>\n",
       "      <td>25</td>\n",
       "      <td>4510</td>\n",
       "      <td>34.077351</td>\n",
       "      <td>-118.264549</td>\n",
       "      <td>3026</td>\n",
       "      <td>34.063179</td>\n",
       "      <td>-118.245880</td>\n",
       "      <td>16826.0</td>\n",
       "      <td>1</td>\n",
       "      <td>1</td>\n",
       "      <td>...</td>\n",
       "      <td>2.206</td>\n",
       "      <td>3/13/2021</td>\n",
       "      <td>12</td>\n",
       "      <td>1</td>\n",
       "      <td>0</td>\n",
       "      <td>0</td>\n",
       "      <td>2021-03-13T12:35:00.000-08:00</td>\n",
       "      <td>2021-03-13T13:00:00.000-08:00</td>\n",
       "      <td>2021-03-13 12:00:00</td>\n",
       "      <td>2021</td>\n",
       "    </tr>\n",
       "    <tr>\n",
       "      <th>155146874</th>\n",
       "      <td>69</td>\n",
       "      <td>4479</td>\n",
       "      <td>34.031502</td>\n",
       "      <td>-118.288742</td>\n",
       "      <td>4509</td>\n",
       "      <td>34.101639</td>\n",
       "      <td>-118.309174</td>\n",
       "      <td>6450.0</td>\n",
       "      <td>1</td>\n",
       "      <td>1</td>\n",
       "      <td>...</td>\n",
       "      <td>4.339</td>\n",
       "      <td>3/13/2021</td>\n",
       "      <td>12</td>\n",
       "      <td>1</td>\n",
       "      <td>0</td>\n",
       "      <td>0</td>\n",
       "      <td>2021-03-13T12:35:00.000-08:00</td>\n",
       "      <td>2021-03-13T13:44:00.000-08:00</td>\n",
       "      <td>2021-03-13 12:00:00</td>\n",
       "      <td>2021</td>\n",
       "    </tr>\n",
       "    <tr>\n",
       "      <th>155146873</th>\n",
       "      <td>68</td>\n",
       "      <td>4545</td>\n",
       "      <td>33.958790</td>\n",
       "      <td>-118.448280</td>\n",
       "      <td>4543</td>\n",
       "      <td>33.957180</td>\n",
       "      <td>-118.451248</td>\n",
       "      <td>16164.0</td>\n",
       "      <td>1</td>\n",
       "      <td>1</td>\n",
       "      <td>...</td>\n",
       "      <td>0.341</td>\n",
       "      <td>3/13/2021</td>\n",
       "      <td>12</td>\n",
       "      <td>1</td>\n",
       "      <td>0</td>\n",
       "      <td>0</td>\n",
       "      <td>2021-03-13T12:35:00.000-08:00</td>\n",
       "      <td>2021-03-13T13:43:00.000-08:00</td>\n",
       "      <td>2021-03-13 12:00:00</td>\n",
       "      <td>2021</td>\n",
       "    </tr>\n",
       "  </tbody>\n",
       "</table>\n",
       "<p>3 rows × 23 columns</p>\n",
       "</div>"
      ],
      "text/plain": [
       "           duration  start_station  start_lat   start_lon  end_station  \\\n",
       "trip_id                                                                  \n",
       "155146002        25           4510  34.077351 -118.264549         3026   \n",
       "155146874        69           4479  34.031502 -118.288742         4509   \n",
       "155146873        68           4545  33.958790 -118.448280         4543   \n",
       "\n",
       "             end_lat     end_lon  bike_id  plan_duration  trip_route_type  \\\n",
       "trip_id                                                                     \n",
       "155146002  34.063179 -118.245880  16826.0              1                1   \n",
       "155146874  34.101639 -118.309174   6450.0              1                1   \n",
       "155146873  33.957180 -118.451248  16164.0              1                1   \n",
       "\n",
       "           ...  distance_cal  used_date  used_hour  season holiday  \\\n",
       "trip_id    ...                                                       \n",
       "155146002  ...         2.206  3/13/2021         12       1       0   \n",
       "155146874  ...         4.339  3/13/2021         12       1       0   \n",
       "155146873  ...         0.341  3/13/2021         12       1       0   \n",
       "\n",
       "           workingday                 start_datetime  \\\n",
       "trip_id                                                \n",
       "155146002           0  2021-03-13T12:35:00.000-08:00   \n",
       "155146874           0  2021-03-13T12:35:00.000-08:00   \n",
       "155146873           0  2021-03-13T12:35:00.000-08:00   \n",
       "\n",
       "                            end_datetime           start_hour   ptd  \n",
       "trip_id                                                              \n",
       "155146002  2021-03-13T13:00:00.000-08:00  2021-03-13 12:00:00  2021  \n",
       "155146874  2021-03-13T13:44:00.000-08:00  2021-03-13 12:00:00  2021  \n",
       "155146873  2021-03-13T13:43:00.000-08:00  2021-03-13 12:00:00  2021  \n",
       "\n",
       "[3 rows x 23 columns]"
      ]
     },
     "execution_count": 124,
     "metadata": {},
     "output_type": "execute_result"
    }
   ],
   "source": [
    "if trip_data_by_year_df.index is None and len(trip_data_by_year_df.index) == 0:\n",
    "    trip_data_by_year_df.set_index('trip_id', inplace=True)\n",
    "trip_data_by_year_df.head(3)"
   ]
  },
  {
   "cell_type": "code",
   "execution_count": 125,
   "id": "1605c326",
   "metadata": {},
   "outputs": [
    {
     "data": {
      "text/html": [
       "<div>\n",
       "<style scoped>\n",
       "    .dataframe tbody tr th:only-of-type {\n",
       "        vertical-align: middle;\n",
       "    }\n",
       "\n",
       "    .dataframe tbody tr th {\n",
       "        vertical-align: top;\n",
       "    }\n",
       "\n",
       "    .dataframe thead th {\n",
       "        text-align: right;\n",
       "    }\n",
       "</style>\n",
       "<table border=\"1\" class=\"dataframe\">\n",
       "  <thead>\n",
       "    <tr style=\"text-align: right;\">\n",
       "      <th></th>\n",
       "      <th>count</th>\n",
       "      <th>mean</th>\n",
       "      <th>std</th>\n",
       "      <th>min</th>\n",
       "      <th>25%</th>\n",
       "      <th>50%</th>\n",
       "      <th>75%</th>\n",
       "      <th>max</th>\n",
       "    </tr>\n",
       "  </thead>\n",
       "  <tbody>\n",
       "    <tr>\n",
       "      <th>duration</th>\n",
       "      <td>153980.0</td>\n",
       "      <td>41.147844</td>\n",
       "      <td>98.052474</td>\n",
       "      <td>1.0</td>\n",
       "      <td>9.000000</td>\n",
       "      <td>19.00000</td>\n",
       "      <td>37.000000</td>\n",
       "      <td>1440.00000</td>\n",
       "    </tr>\n",
       "    <tr>\n",
       "      <th>plan_duration</th>\n",
       "      <td>153980.0</td>\n",
       "      <td>48.574191</td>\n",
       "      <td>102.845018</td>\n",
       "      <td>1.0</td>\n",
       "      <td>1.000000</td>\n",
       "      <td>30.00000</td>\n",
       "      <td>30.000000</td>\n",
       "      <td>365.00000</td>\n",
       "    </tr>\n",
       "    <tr>\n",
       "      <th>trip_route_type</th>\n",
       "      <td>153980.0</td>\n",
       "      <td>1.243525</td>\n",
       "      <td>0.429211</td>\n",
       "      <td>1.0</td>\n",
       "      <td>1.000000</td>\n",
       "      <td>1.00000</td>\n",
       "      <td>1.000000</td>\n",
       "      <td>2.00000</td>\n",
       "    </tr>\n",
       "    <tr>\n",
       "      <th>passholder_type</th>\n",
       "      <td>153980.0</td>\n",
       "      <td>2.317872</td>\n",
       "      <td>1.024294</td>\n",
       "      <td>1.0</td>\n",
       "      <td>1.000000</td>\n",
       "      <td>3.00000</td>\n",
       "      <td>3.000000</td>\n",
       "      <td>4.00000</td>\n",
       "    </tr>\n",
       "    <tr>\n",
       "      <th>bike_type</th>\n",
       "      <td>153980.0</td>\n",
       "      <td>1.278686</td>\n",
       "      <td>0.471635</td>\n",
       "      <td>1.0</td>\n",
       "      <td>1.000000</td>\n",
       "      <td>1.00000</td>\n",
       "      <td>2.000000</td>\n",
       "      <td>3.00000</td>\n",
       "    </tr>\n",
       "    <tr>\n",
       "      <th>distance</th>\n",
       "      <td>153980.0</td>\n",
       "      <td>29.593611</td>\n",
       "      <td>35.449623</td>\n",
       "      <td>0.0</td>\n",
       "      <td>4.025301</td>\n",
       "      <td>20.55456</td>\n",
       "      <td>41.013824</td>\n",
       "      <td>517.31647</td>\n",
       "    </tr>\n",
       "    <tr>\n",
       "      <th>season</th>\n",
       "      <td>153980.0</td>\n",
       "      <td>2.232478</td>\n",
       "      <td>0.831957</td>\n",
       "      <td>1.0</td>\n",
       "      <td>2.000000</td>\n",
       "      <td>2.00000</td>\n",
       "      <td>3.000000</td>\n",
       "      <td>4.00000</td>\n",
       "    </tr>\n",
       "    <tr>\n",
       "      <th>holiday</th>\n",
       "      <td>153980.0</td>\n",
       "      <td>0.034712</td>\n",
       "      <td>0.183051</td>\n",
       "      <td>0.0</td>\n",
       "      <td>0.000000</td>\n",
       "      <td>0.00000</td>\n",
       "      <td>0.000000</td>\n",
       "      <td>1.00000</td>\n",
       "    </tr>\n",
       "    <tr>\n",
       "      <th>workingday</th>\n",
       "      <td>153980.0</td>\n",
       "      <td>0.637615</td>\n",
       "      <td>0.480691</td>\n",
       "      <td>0.0</td>\n",
       "      <td>0.000000</td>\n",
       "      <td>1.00000</td>\n",
       "      <td>1.000000</td>\n",
       "      <td>1.00000</td>\n",
       "    </tr>\n",
       "  </tbody>\n",
       "</table>\n",
       "</div>"
      ],
      "text/plain": [
       "                    count       mean         std  min       25%       50%  \\\n",
       "duration         153980.0  41.147844   98.052474  1.0  9.000000  19.00000   \n",
       "plan_duration    153980.0  48.574191  102.845018  1.0  1.000000  30.00000   \n",
       "trip_route_type  153980.0   1.243525    0.429211  1.0  1.000000   1.00000   \n",
       "passholder_type  153980.0   2.317872    1.024294  1.0  1.000000   3.00000   \n",
       "bike_type        153980.0   1.278686    0.471635  1.0  1.000000   1.00000   \n",
       "distance         153980.0  29.593611   35.449623  0.0  4.025301  20.55456   \n",
       "season           153980.0   2.232478    0.831957  1.0  2.000000   2.00000   \n",
       "holiday          153980.0   0.034712    0.183051  0.0  0.000000   0.00000   \n",
       "workingday       153980.0   0.637615    0.480691  0.0  0.000000   1.00000   \n",
       "\n",
       "                       75%         max  \n",
       "duration         37.000000  1440.00000  \n",
       "plan_duration    30.000000   365.00000  \n",
       "trip_route_type   1.000000     2.00000  \n",
       "passholder_type   3.000000     4.00000  \n",
       "bike_type         2.000000     3.00000  \n",
       "distance         41.013824   517.31647  \n",
       "season            3.000000     4.00000  \n",
       "holiday           0.000000     1.00000  \n",
       "workingday        1.000000     1.00000  "
      ]
     },
     "execution_count": 125,
     "metadata": {},
     "output_type": "execute_result"
    }
   ],
   "source": [
    "trip_data_by_year_df[['duration', 'plan_duration',  'trip_route_type', 'passholder_type', \n",
    "                      'bike_type', 'distance', 'season', 'holiday', 'workingday']].describe().T"
   ]
  },
  {
   "cell_type": "markdown",
   "id": "f59a0426",
   "metadata": {},
   "source": [
    "### Plot in categorical variable"
   ]
  },
  {
   "cell_type": "code",
   "execution_count": 126,
   "id": "6edfd111",
   "metadata": {},
   "outputs": [
    {
     "name": "stdout",
     "output_type": "stream",
     "text": [
      "monthly pass    70950\n",
      "walk-up         50056\n",
      "one day pass    18948\n",
      "annual pass     14026\n",
      "Name: passholder_type, dtype: int64\n"
     ]
    },
    {
     "data": {
      "text/plain": [
       "<AxesSubplot:xlabel='workingday', ylabel='count'>"
      ]
     },
     "execution_count": 126,
     "metadata": {},
     "output_type": "execute_result"
    },
    {
     "data": {
      "image/png": "[encoded data removed]",
      "text/plain": [
       "<Figure size 2000x800 with 6 Axes>"
      ]
     },
     "metadata": {
      "needs_background": "light"
     },
     "output_type": "display_data"
    }
   ],
   "source": [
    "# countplot in categorical variable\n",
    "fig, axes = plt.subplots(nrows=2, ncols=3)\n",
    "fig.set_size_inches(20, 8)\n",
    "\n",
    "# col_name = ['trip_route_type', 'passholder_type', 'bike_type', 'season', 'holiday', 'workingday']\n",
    "\n",
    "from copy import deepcopy\n",
    "trip_data_dscrpt_df = deepcopy(trip_data_by_year_df)\n",
    "\n",
    "trip_route_type = {1: 'one way', 2: 'round trip'}\n",
    "trip_data_dscrpt_df['trip_route_type'] = [trip_route_type[x] for x in trip_data_by_year_df['trip_route_type']]\n",
    "passholder_type = {1: 'walk-up', 2: 'one day pass', 3: 'monthly pass', 4: 'annual pass'}\n",
    "trip_data_dscrpt_df['passholder_type'] = [passholder_type[x] for x in trip_data_by_year_df['passholder_type']]\n",
    "bike_type = {1: 'standard', 2: 'electric', 3: 'smart'}\n",
    "trip_data_dscrpt_df['bike_type'] = [bike_type[x] for x in trip_data_by_year_df['bike_type']]\n",
    "season = {1: 'winter', 2: 'spring', 3: 'summer', 4: 'autumn'}\n",
    "trip_data_dscrpt_df['season'] = [season[x] for x in trip_data_by_year_df['season']]\n",
    "holiday = {1: 'us holiday', 0: 'non-holiday'}\n",
    "trip_data_dscrpt_df['holiday'] = [holiday[x] for x in trip_data_by_year_df['holiday']]\n",
    "workingday = {1: 'workingday', 0: 'non-workingday'}\n",
    "trip_data_dscrpt_df['workingday'] = [workingday[x] for x in trip_data_by_year_df['workingday']]\n",
    "\n",
    "print(trip_data_dscrpt_df['passholder_type'].value_counts())\n",
    "\n",
    "sns.countplot(trip_data_dscrpt_df['trip_route_type'], ax=axes[0][0])\n",
    "sns.countplot(trip_data_dscrpt_df['passholder_type'], ax=axes[0][1])\n",
    "sns.countplot(trip_data_dscrpt_df['bike_type'], ax=axes[0][2])\n",
    "sns.countplot(trip_data_dscrpt_df['season'], ax=axes[1][0])\n",
    "sns.countplot(trip_data_dscrpt_df['holiday'], ax=axes[1][1])\n",
    "sns.countplot(trip_data_dscrpt_df['workingday'], ax=axes[1][2])"
   ]
  },
  {
   "cell_type": "code",
   "execution_count": 17,
   "id": "b86e6feb",
   "metadata": {},
   "outputs": [
    {
     "data": {
      "text/plain": [
       "<AxesSubplot:xlabel='season', ylabel='ptd'>"
      ]
     },
     "execution_count": 17,
     "metadata": {},
     "output_type": "execute_result"
    },
    {
     "data": {
      "image/png": "[encoded data removed]",
      "text/plain": [
       "<Figure size 1152x576 with 4 Axes>"
      ]
     },
     "metadata": {
      "needs_background": "light"
     },
     "output_type": "display_data"
    }
   ],
   "source": [
    "# pointplot in categorical variable\n",
    "fig, axes = plt.subplots(nrows=2, ncols=2)\n",
    "fig.set_size_inches(16, 8)\n",
    "\n",
    "sns.pointplot(data=trip_data_by_year_df, x='trip_route_type', y='ptd', ax=axes[0][0])\n",
    "sns.pointplot(data=trip_data_by_year_df, x='passholder_type', y='ptd', ax=axes[0][1])\n",
    "sns.pointplot(data=trip_data_by_year_df, x='bike_type', y='ptd', ax=axes[1][0])\n",
    "sns.pointplot(data=trip_data_by_year_df, x='season', y='ptd', ax=axes[1][1])\n",
    "\n",
    "# sns.pointplot(data=trip_data_by_year, x='trip_route_type', ax=axes[0][0])\n",
    "# sns.pointplot(data=trip_data_by_year, x='passholder_type', ax=axes[0][1])\n",
    "# sns.pointplot(data=trip_data_by_year, x='bike_type', ax=axes[0][2])\n",
    "# sns.pointplot(data=trip_data_by_year, x='season', ax=axes[1][0])\n",
    "# sns.pointplot(data=trip_data_by_year, x='holiday', ax=axes[1][1])\n",
    "# sns.pointplot(data=trip_data_by_year, x='workingday', ax=axes[1][2])"
   ]
  },
  {
   "cell_type": "markdown",
   "id": "a50216a7",
   "metadata": {},
   "source": [
    "## Modeling analysis by k-means"
   ]
  },
  {
   "cell_type": "markdown",
   "id": "140f6503",
   "metadata": {},
   "source": [
    "### Load Data "
   ]
  },
  {
   "cell_type": "code",
   "execution_count": 111,
   "id": "5b246d25",
   "metadata": {},
   "outputs": [],
   "source": [
    "# app_trip_cnt_by_hour\n",
    "app_trip_cnt_by_hour_df = pd.read_csv('results/app/app_trip_cnt_by_hour/part-00000-a79cce04-7a63-4d9e-836b-2e225e7984f2-c000.csv')"
   ]
  },
  {
   "cell_type": "code",
   "execution_count": 112,
   "id": "ea67374d",
   "metadata": {},
   "outputs": [
    {
     "name": "stdout",
     "output_type": "stream",
     "text": [
      "<class 'pandas.core.frame.DataFrame'>\n",
      "RangeIndex: 6046 entries, 0 to 6045\n",
      "Data columns (total 18 columns):\n",
      " #   Column                            Non-Null Count  Dtype \n",
      "---  ------                            --------------  ----- \n",
      " 0   start_hour                        6046 non-null   object\n",
      " 1   used_count                        6046 non-null   int64 \n",
      " 2   total_duration                    6046 non-null   int64 \n",
      " 3   plan_duration_day_count           6046 non-null   int64 \n",
      " 4   plan_duration_month_count         6046 non-null   int64 \n",
      " 5   plan_duration_year_count          6046 non-null   int64 \n",
      " 6   trip_route_type_one_way_count     6046 non-null   int64 \n",
      " 7   trip_route_type_round_trip_count  6046 non-null   int64 \n",
      " 8   passholder_type_walk_up_count     6046 non-null   int64 \n",
      " 9   passholder_type_one_day_count     6046 non-null   int64 \n",
      " 10  passholder_type_monthly_count     6046 non-null   int64 \n",
      " 11  passholder_type_annual_count      6046 non-null   int64 \n",
      " 12  bike_type_standard_count          6046 non-null   int64 \n",
      " 13  bike_type_electric_count          6046 non-null   int64 \n",
      " 14  bike_type_smart_count             6046 non-null   int64 \n",
      " 15  season                            6046 non-null   int64 \n",
      " 16  holiday                           6046 non-null   int64 \n",
      " 17  workingday                        6046 non-null   int64 \n",
      "dtypes: int64(17), object(1)\n",
      "memory usage: 850.3+ KB\n"
     ]
    }
   ],
   "source": [
    "app_trip_cnt_by_hour_df.info()"
   ]
  },
  {
   "cell_type": "code",
   "execution_count": 113,
   "id": "927690f2",
   "metadata": {},
   "outputs": [
    {
     "data": {
      "text/html": [
       "<div>\n",
       "<style scoped>\n",
       "    .dataframe tbody tr th:only-of-type {\n",
       "        vertical-align: middle;\n",
       "    }\n",
       "\n",
       "    .dataframe tbody tr th {\n",
       "        vertical-align: top;\n",
       "    }\n",
       "\n",
       "    .dataframe thead th {\n",
       "        text-align: right;\n",
       "    }\n",
       "</style>\n",
       "<table border=\"1\" class=\"dataframe\">\n",
       "  <thead>\n",
       "    <tr style=\"text-align: right;\">\n",
       "      <th></th>\n",
       "      <th>start_hour</th>\n",
       "      <th>used_count</th>\n",
       "      <th>total_duration</th>\n",
       "      <th>plan_duration_day_count</th>\n",
       "      <th>plan_duration_month_count</th>\n",
       "      <th>plan_duration_year_count</th>\n",
       "      <th>trip_route_type_one_way_count</th>\n",
       "      <th>trip_route_type_round_trip_count</th>\n",
       "      <th>passholder_type_walk_up_count</th>\n",
       "      <th>passholder_type_one_day_count</th>\n",
       "      <th>passholder_type_monthly_count</th>\n",
       "      <th>passholder_type_annual_count</th>\n",
       "      <th>bike_type_standard_count</th>\n",
       "      <th>bike_type_electric_count</th>\n",
       "      <th>bike_type_smart_count</th>\n",
       "      <th>season</th>\n",
       "      <th>holiday</th>\n",
       "      <th>workingday</th>\n",
       "    </tr>\n",
       "  </thead>\n",
       "  <tbody>\n",
       "    <tr>\n",
       "      <th>0</th>\n",
       "      <td>2021-01-01 01:00:00</td>\n",
       "      <td>1</td>\n",
       "      <td>17</td>\n",
       "      <td>1</td>\n",
       "      <td>0</td>\n",
       "      <td>0</td>\n",
       "      <td>1</td>\n",
       "      <td>0</td>\n",
       "      <td>1</td>\n",
       "      <td>0</td>\n",
       "      <td>0</td>\n",
       "      <td>0</td>\n",
       "      <td>1</td>\n",
       "      <td>0</td>\n",
       "      <td>0</td>\n",
       "      <td>1</td>\n",
       "      <td>1</td>\n",
       "      <td>0</td>\n",
       "    </tr>\n",
       "    <tr>\n",
       "      <th>1</th>\n",
       "      <td>2021-01-01 02:00:00</td>\n",
       "      <td>1</td>\n",
       "      <td>7</td>\n",
       "      <td>0</td>\n",
       "      <td>0</td>\n",
       "      <td>1</td>\n",
       "      <td>1</td>\n",
       "      <td>0</td>\n",
       "      <td>0</td>\n",
       "      <td>0</td>\n",
       "      <td>0</td>\n",
       "      <td>1</td>\n",
       "      <td>0</td>\n",
       "      <td>1</td>\n",
       "      <td>0</td>\n",
       "      <td>1</td>\n",
       "      <td>1</td>\n",
       "      <td>0</td>\n",
       "    </tr>\n",
       "    <tr>\n",
       "      <th>2</th>\n",
       "      <td>2021-01-01 04:00:00</td>\n",
       "      <td>2</td>\n",
       "      <td>216</td>\n",
       "      <td>1</td>\n",
       "      <td>1</td>\n",
       "      <td>0</td>\n",
       "      <td>2</td>\n",
       "      <td>0</td>\n",
       "      <td>1</td>\n",
       "      <td>0</td>\n",
       "      <td>1</td>\n",
       "      <td>0</td>\n",
       "      <td>2</td>\n",
       "      <td>0</td>\n",
       "      <td>0</td>\n",
       "      <td>1</td>\n",
       "      <td>1</td>\n",
       "      <td>0</td>\n",
       "    </tr>\n",
       "  </tbody>\n",
       "</table>\n",
       "</div>"
      ],
      "text/plain": [
       "            start_hour  used_count  total_duration  plan_duration_day_count  \\\n",
       "0  2021-01-01 01:00:00           1              17                        1   \n",
       "1  2021-01-01 02:00:00           1               7                        0   \n",
       "2  2021-01-01 04:00:00           2             216                        1   \n",
       "\n",
       "   plan_duration_month_count  plan_duration_year_count  \\\n",
       "0                          0                         0   \n",
       "1                          0                         1   \n",
       "2                          1                         0   \n",
       "\n",
       "   trip_route_type_one_way_count  trip_route_type_round_trip_count  \\\n",
       "0                              1                                 0   \n",
       "1                              1                                 0   \n",
       "2                              2                                 0   \n",
       "\n",
       "   passholder_type_walk_up_count  passholder_type_one_day_count  \\\n",
       "0                              1                              0   \n",
       "1                              0                              0   \n",
       "2                              1                              0   \n",
       "\n",
       "   passholder_type_monthly_count  passholder_type_annual_count  \\\n",
       "0                              0                             0   \n",
       "1                              0                             1   \n",
       "2                              1                             0   \n",
       "\n",
       "   bike_type_standard_count  bike_type_electric_count  bike_type_smart_count  \\\n",
       "0                         1                         0                      0   \n",
       "1                         0                         1                      0   \n",
       "2                         2                         0                      0   \n",
       "\n",
       "   season  holiday  workingday  \n",
       "0       1        1           0  \n",
       "1       1        1           0  \n",
       "2       1        1           0  "
      ]
     },
     "execution_count": 113,
     "metadata": {},
     "output_type": "execute_result"
    }
   ],
   "source": [
    "app_trip_cnt_by_hour_df.head(3)"
   ]
  },
  {
   "cell_type": "code",
   "execution_count": 114,
   "id": "ea0c09af",
   "metadata": {},
   "outputs": [
    {
     "data": {
      "text/html": [
       "<div>\n",
       "<style scoped>\n",
       "    .dataframe tbody tr th:only-of-type {\n",
       "        vertical-align: middle;\n",
       "    }\n",
       "\n",
       "    .dataframe tbody tr th {\n",
       "        vertical-align: top;\n",
       "    }\n",
       "\n",
       "    .dataframe thead th {\n",
       "        text-align: right;\n",
       "    }\n",
       "</style>\n",
       "<table border=\"1\" class=\"dataframe\">\n",
       "  <thead>\n",
       "    <tr style=\"text-align: right;\">\n",
       "      <th></th>\n",
       "      <th>count</th>\n",
       "      <th>mean</th>\n",
       "      <th>std</th>\n",
       "      <th>min</th>\n",
       "      <th>25%</th>\n",
       "      <th>50%</th>\n",
       "      <th>75%</th>\n",
       "      <th>max</th>\n",
       "    </tr>\n",
       "  </thead>\n",
       "  <tbody>\n",
       "    <tr>\n",
       "      <th>used_count</th>\n",
       "      <td>6046.0</td>\n",
       "      <td>25.469567</td>\n",
       "      <td>20.707366</td>\n",
       "      <td>1.0</td>\n",
       "      <td>6.00</td>\n",
       "      <td>22.0</td>\n",
       "      <td>40.0</td>\n",
       "      <td>142.0</td>\n",
       "    </tr>\n",
       "    <tr>\n",
       "      <th>total_duration</th>\n",
       "      <td>6046.0</td>\n",
       "      <td>1048.013397</td>\n",
       "      <td>1141.688522</td>\n",
       "      <td>1.0</td>\n",
       "      <td>160.25</td>\n",
       "      <td>684.0</td>\n",
       "      <td>1555.0</td>\n",
       "      <td>10524.0</td>\n",
       "    </tr>\n",
       "    <tr>\n",
       "      <th>plan_duration_day_count</th>\n",
       "      <td>6046.0</td>\n",
       "      <td>11.339563</td>\n",
       "      <td>11.908931</td>\n",
       "      <td>0.0</td>\n",
       "      <td>2.00</td>\n",
       "      <td>7.0</td>\n",
       "      <td>17.0</td>\n",
       "      <td>79.0</td>\n",
       "    </tr>\n",
       "    <tr>\n",
       "      <th>plan_duration_month_count</th>\n",
       "      <td>6046.0</td>\n",
       "      <td>11.736189</td>\n",
       "      <td>9.372877</td>\n",
       "      <td>0.0</td>\n",
       "      <td>3.00</td>\n",
       "      <td>11.0</td>\n",
       "      <td>18.0</td>\n",
       "      <td>112.0</td>\n",
       "    </tr>\n",
       "    <tr>\n",
       "      <th>plan_duration_year_count</th>\n",
       "      <td>6046.0</td>\n",
       "      <td>2.393649</td>\n",
       "      <td>2.627686</td>\n",
       "      <td>0.0</td>\n",
       "      <td>0.00</td>\n",
       "      <td>2.0</td>\n",
       "      <td>4.0</td>\n",
       "      <td>19.0</td>\n",
       "    </tr>\n",
       "    <tr>\n",
       "      <th>trip_route_type_one_way_count</th>\n",
       "      <td>6046.0</td>\n",
       "      <td>19.266788</td>\n",
       "      <td>15.579677</td>\n",
       "      <td>0.0</td>\n",
       "      <td>5.00</td>\n",
       "      <td>17.0</td>\n",
       "      <td>30.0</td>\n",
       "      <td>130.0</td>\n",
       "    </tr>\n",
       "    <tr>\n",
       "      <th>trip_route_type_round_trip_count</th>\n",
       "      <td>6046.0</td>\n",
       "      <td>6.202779</td>\n",
       "      <td>6.332285</td>\n",
       "      <td>0.0</td>\n",
       "      <td>1.00</td>\n",
       "      <td>4.0</td>\n",
       "      <td>10.0</td>\n",
       "      <td>48.0</td>\n",
       "    </tr>\n",
       "    <tr>\n",
       "      <th>passholder_type_walk_up_count</th>\n",
       "      <td>6046.0</td>\n",
       "      <td>8.279854</td>\n",
       "      <td>8.759412</td>\n",
       "      <td>0.0</td>\n",
       "      <td>1.00</td>\n",
       "      <td>5.0</td>\n",
       "      <td>12.0</td>\n",
       "      <td>60.0</td>\n",
       "    </tr>\n",
       "    <tr>\n",
       "      <th>passholder_type_one_day_count</th>\n",
       "      <td>6046.0</td>\n",
       "      <td>3.134138</td>\n",
       "      <td>4.248490</td>\n",
       "      <td>0.0</td>\n",
       "      <td>0.00</td>\n",
       "      <td>1.5</td>\n",
       "      <td>5.0</td>\n",
       "      <td>35.0</td>\n",
       "    </tr>\n",
       "    <tr>\n",
       "      <th>passholder_type_monthly_count</th>\n",
       "      <td>6046.0</td>\n",
       "      <td>11.735528</td>\n",
       "      <td>9.371976</td>\n",
       "      <td>0.0</td>\n",
       "      <td>3.00</td>\n",
       "      <td>11.0</td>\n",
       "      <td>18.0</td>\n",
       "      <td>112.0</td>\n",
       "    </tr>\n",
       "    <tr>\n",
       "      <th>passholder_type_annual_count</th>\n",
       "      <td>6046.0</td>\n",
       "      <td>2.319881</td>\n",
       "      <td>2.565514</td>\n",
       "      <td>0.0</td>\n",
       "      <td>0.00</td>\n",
       "      <td>2.0</td>\n",
       "      <td>4.0</td>\n",
       "      <td>19.0</td>\n",
       "    </tr>\n",
       "    <tr>\n",
       "      <th>bike_type_standard_count</th>\n",
       "      <td>6046.0</td>\n",
       "      <td>18.643401</td>\n",
       "      <td>16.082959</td>\n",
       "      <td>0.0</td>\n",
       "      <td>4.00</td>\n",
       "      <td>15.0</td>\n",
       "      <td>29.0</td>\n",
       "      <td>83.0</td>\n",
       "    </tr>\n",
       "    <tr>\n",
       "      <th>bike_type_electric_count</th>\n",
       "      <td>6046.0</td>\n",
       "      <td>6.552101</td>\n",
       "      <td>5.841823</td>\n",
       "      <td>0.0</td>\n",
       "      <td>1.00</td>\n",
       "      <td>5.0</td>\n",
       "      <td>10.0</td>\n",
       "      <td>90.0</td>\n",
       "    </tr>\n",
       "    <tr>\n",
       "      <th>bike_type_smart_count</th>\n",
       "      <td>6046.0</td>\n",
       "      <td>0.274065</td>\n",
       "      <td>0.686015</td>\n",
       "      <td>0.0</td>\n",
       "      <td>0.00</td>\n",
       "      <td>0.0</td>\n",
       "      <td>0.0</td>\n",
       "      <td>9.0</td>\n",
       "    </tr>\n",
       "    <tr>\n",
       "      <th>season</th>\n",
       "      <td>6046.0</td>\n",
       "      <td>2.144558</td>\n",
       "      <td>0.867543</td>\n",
       "      <td>1.0</td>\n",
       "      <td>1.00</td>\n",
       "      <td>2.0</td>\n",
       "      <td>3.0</td>\n",
       "      <td>4.0</td>\n",
       "    </tr>\n",
       "    <tr>\n",
       "      <th>holiday</th>\n",
       "      <td>6046.0</td>\n",
       "      <td>0.028945</td>\n",
       "      <td>0.167665</td>\n",
       "      <td>0.0</td>\n",
       "      <td>0.00</td>\n",
       "      <td>0.0</td>\n",
       "      <td>0.0</td>\n",
       "      <td>1.0</td>\n",
       "    </tr>\n",
       "    <tr>\n",
       "      <th>workingday</th>\n",
       "      <td>6046.0</td>\n",
       "      <td>0.690705</td>\n",
       "      <td>0.462241</td>\n",
       "      <td>0.0</td>\n",
       "      <td>0.00</td>\n",
       "      <td>1.0</td>\n",
       "      <td>1.0</td>\n",
       "      <td>1.0</td>\n",
       "    </tr>\n",
       "  </tbody>\n",
       "</table>\n",
       "</div>"
      ],
      "text/plain": [
       "                                   count         mean          std  min  \\\n",
       "used_count                        6046.0    25.469567    20.707366  1.0   \n",
       "total_duration                    6046.0  1048.013397  1141.688522  1.0   \n",
       "plan_duration_day_count           6046.0    11.339563    11.908931  0.0   \n",
       "plan_duration_month_count         6046.0    11.736189     9.372877  0.0   \n",
       "plan_duration_year_count          6046.0     2.393649     2.627686  0.0   \n",
       "trip_route_type_one_way_count     6046.0    19.266788    15.579677  0.0   \n",
       "trip_route_type_round_trip_count  6046.0     6.202779     6.332285  0.0   \n",
       "passholder_type_walk_up_count     6046.0     8.279854     8.759412  0.0   \n",
       "passholder_type_one_day_count     6046.0     3.134138     4.248490  0.0   \n",
       "passholder_type_monthly_count     6046.0    11.735528     9.371976  0.0   \n",
       "passholder_type_annual_count      6046.0     2.319881     2.565514  0.0   \n",
       "bike_type_standard_count          6046.0    18.643401    16.082959  0.0   \n",
       "bike_type_electric_count          6046.0     6.552101     5.841823  0.0   \n",
       "bike_type_smart_count             6046.0     0.274065     0.686015  0.0   \n",
       "season                            6046.0     2.144558     0.867543  1.0   \n",
       "holiday                           6046.0     0.028945     0.167665  0.0   \n",
       "workingday                        6046.0     0.690705     0.462241  0.0   \n",
       "\n",
       "                                     25%    50%     75%      max  \n",
       "used_count                          6.00   22.0    40.0    142.0  \n",
       "total_duration                    160.25  684.0  1555.0  10524.0  \n",
       "plan_duration_day_count             2.00    7.0    17.0     79.0  \n",
       "plan_duration_month_count           3.00   11.0    18.0    112.0  \n",
       "plan_duration_year_count            0.00    2.0     4.0     19.0  \n",
       "trip_route_type_one_way_count       5.00   17.0    30.0    130.0  \n",
       "trip_route_type_round_trip_count    1.00    4.0    10.0     48.0  \n",
       "passholder_type_walk_up_count       1.00    5.0    12.0     60.0  \n",
       "passholder_type_one_day_count       0.00    1.5     5.0     35.0  \n",
       "passholder_type_monthly_count       3.00   11.0    18.0    112.0  \n",
       "passholder_type_annual_count        0.00    2.0     4.0     19.0  \n",
       "bike_type_standard_count            4.00   15.0    29.0     83.0  \n",
       "bike_type_electric_count            1.00    5.0    10.0     90.0  \n",
       "bike_type_smart_count               0.00    0.0     0.0      9.0  \n",
       "season                              1.00    2.0     3.0      4.0  \n",
       "holiday                             0.00    0.0     0.0      1.0  \n",
       "workingday                          0.00    1.0     1.0      1.0  "
      ]
     },
     "execution_count": 114,
     "metadata": {},
     "output_type": "execute_result"
    }
   ],
   "source": [
    "app_trip_cnt_by_hour_df.describe().T"
   ]
  },
  {
   "cell_type": "code",
   "execution_count": 115,
   "id": "12f59379",
   "metadata": {
    "scrolled": false
   },
   "outputs": [
    {
     "data": {
      "text/plain": [
       "<AxesSubplot:xlabel='holiday', ylabel='used_count'>"
      ]
     },
     "execution_count": 115,
     "metadata": {},
     "output_type": "execute_result"
    },
    {
     "data": {
      "image/png": "[encoded data removed]",
      "text/plain": [
       "<Figure size 1600x800 with 4 Axes>"
      ]
     },
     "metadata": {
      "needs_background": "light"
     },
     "output_type": "display_data"
    }
   ],
   "source": [
    "# pointplot in categorical variable\n",
    "fig, axes = plt.subplots(nrows=2, ncols=2)\n",
    "fig.set_size_inches(16,8)\n",
    "\n",
    "sns.pointplot(data=app_trip_cnt_by_hour_df, x='workingday', y='used_count', ax=axes[0][0])\n",
    "sns.pointplot(data=app_trip_cnt_by_hour_df, x='season', y='used_count', ax=axes[0][1])\n",
    "sns.pointplot(data=app_trip_cnt_by_hour_df, x='holiday', y='used_count', ax=axes[1][0])"
   ]
  },
  {
   "cell_type": "markdown",
   "id": "44d81668",
   "metadata": {},
   "source": [
    "### Correlation matrix"
   ]
  },
  {
   "cell_type": "code",
   "execution_count": 116,
   "id": "222149a0",
   "metadata": {},
   "outputs": [
    {
     "data": {
      "text/plain": [
       "<AxesSubplot:>"
      ]
     },
     "execution_count": 116,
     "metadata": {},
     "output_type": "execute_result"
    },
    {
     "data": {
      "image/png": "[encoded data removed]",
      "text/plain": [
       "<Figure size 1000x1000 with 2 Axes>"
      ]
     },
     "metadata": {
      "needs_background": "light"
     },
     "output_type": "display_data"
    }
   ],
   "source": [
    "corr = app_trip_cnt_by_hour_df.corr()\n",
    "mask = np.array(corr)\n",
    "mask[np.tril_indices_from(mask)] = False\n",
    "fig = plt.gcf()\n",
    "fig.set_size_inches(10,10)\n",
    "sns.heatmap(data=corr,\n",
    "            mask=mask,\n",
    "            cmap='Oranges',\n",
    "            square=True,\n",
    "            annot=True,\n",
    "            cbar=True)"
   ]
  },
  {
   "cell_type": "code",
   "execution_count": 15,
   "id": "4e0ef63e",
   "metadata": {},
   "outputs": [
    {
     "data": {
      "text/plain": [
       "trip_id            0\n",
       "duration           0\n",
       "start_station      0\n",
       "start_lat          0\n",
       "start_lon          0\n",
       "end_station        0\n",
       "end_lat            0\n",
       "end_lon            0\n",
       "bike_id            8\n",
       "plan_duration      0\n",
       "trip_route_type    0\n",
       "passholder_type    1\n",
       "bike_type          0\n",
       "distance           0\n",
       "distance_cal       0\n",
       "used_date          0\n",
       "used_hour          0\n",
       "season             0\n",
       "holiday            0\n",
       "workingday         0\n",
       "start_datetime     0\n",
       "end_datetime       0\n",
       "start_hour         0\n",
       "ptd                0\n",
       "dtype: int64"
      ]
     },
     "execution_count": 15,
     "metadata": {},
     "output_type": "execute_result"
    }
   ],
   "source": [
    "# check missing value\n",
    "trip_data_by_year_df.isna().sum()"
   ]
  },
  {
   "cell_type": "code",
   "execution_count": 54,
   "id": "9b21f9e7",
   "metadata": {},
   "outputs": [
    {
     "data": {
      "text/plain": [
       "trip_id            0\n",
       "duration           0\n",
       "start_station      0\n",
       "start_lat          0\n",
       "start_lon          0\n",
       "end_station        0\n",
       "end_lat            0\n",
       "end_lon            0\n",
       "bike_id            0\n",
       "plan_duration      0\n",
       "trip_route_type    0\n",
       "passholder_type    0\n",
       "bike_type          0\n",
       "distance           0\n",
       "distance_cal       0\n",
       "used_date          0\n",
       "used_hour          0\n",
       "season             0\n",
       "holiday            0\n",
       "workingday         0\n",
       "start_datetime     0\n",
       "end_datetime       0\n",
       "start_hour         0\n",
       "ptd                0\n",
       "dtype: int64"
      ]
     },
     "execution_count": 54,
     "metadata": {},
     "output_type": "execute_result"
    }
   ],
   "source": [
    "trip_data_by_year_df = trip_data_by_year_df.dropna(how='any')\n",
    "trip_data_by_year_df.isnull().sum()"
   ]
  },
  {
   "cell_type": "code",
   "execution_count": 16,
   "id": "8ea8c7c4",
   "metadata": {},
   "outputs": [
    {
     "data": {
      "text/plain": [
       "{'algorithm': 'auto',\n",
       " 'eps': 0.5,\n",
       " 'leaf_size': 30,\n",
       " 'metric': 'euclidean',\n",
       " 'metric_params': None,\n",
       " 'min_samples': 5,\n",
       " 'n_jobs': None,\n",
       " 'p': None}"
      ]
     },
     "execution_count": 16,
     "metadata": {},
     "output_type": "execute_result"
    }
   ],
   "source": [
    "from sklearn.cluster import KMeans\n",
    "from sklearn import cluster\n",
    "cluster.DBSCAN().get_params()"
   ]
  },
  {
   "cell_type": "code",
   "execution_count": 23,
   "id": "396b0b03",
   "metadata": {},
   "outputs": [],
   "source": [
    "coordinate_data = trip_data_by_year_df.loc[:,['start_lon','start_lat']] # 取第’start_lon, start_lat’列的所有记录，df.loc[0, :]取第0行的所有记录"
   ]
  },
  {
   "cell_type": "code",
   "execution_count": 29,
   "id": "887f206f",
   "metadata": {},
   "outputs": [
    {
     "data": {
      "text/html": [
       "<div>\n",
       "<style scoped>\n",
       "    .dataframe tbody tr th:only-of-type {\n",
       "        vertical-align: middle;\n",
       "    }\n",
       "\n",
       "    .dataframe tbody tr th {\n",
       "        vertical-align: top;\n",
       "    }\n",
       "\n",
       "    .dataframe thead th {\n",
       "        text-align: right;\n",
       "    }\n",
       "</style>\n",
       "<table border=\"1\" class=\"dataframe\">\n",
       "  <thead>\n",
       "    <tr style=\"text-align: right;\">\n",
       "      <th></th>\n",
       "      <th>start_lon</th>\n",
       "      <th>start_lat</th>\n",
       "    </tr>\n",
       "  </thead>\n",
       "  <tbody>\n",
       "    <tr>\n",
       "      <th>0</th>\n",
       "      <td>-118.264549</td>\n",
       "      <td>34.077351</td>\n",
       "    </tr>\n",
       "    <tr>\n",
       "      <th>1</th>\n",
       "      <td>-118.288742</td>\n",
       "      <td>34.031502</td>\n",
       "    </tr>\n",
       "    <tr>\n",
       "      <th>2</th>\n",
       "      <td>-118.448280</td>\n",
       "      <td>33.958790</td>\n",
       "    </tr>\n",
       "  </tbody>\n",
       "</table>\n",
       "</div>"
      ],
      "text/plain": [
       "    start_lon  start_lat\n",
       "0 -118.264549  34.077351\n",
       "1 -118.288742  34.031502\n",
       "2 -118.448280  33.958790"
      ]
     },
     "execution_count": 29,
     "metadata": {},
     "output_type": "execute_result"
    }
   ],
   "source": [
    "coordinate_data.head(3)"
   ]
  },
  {
   "cell_type": "code",
   "execution_count": 30,
   "id": "71e0c41c",
   "metadata": {},
   "outputs": [
    {
     "data": {
      "text/plain": [
       "[<matplotlib.lines.Line2D at 0x12ca0d5b0>]"
      ]
     },
     "execution_count": 30,
     "metadata": {},
     "output_type": "execute_result"
    },
    {
     "data": {
      "image/png": "[encoded data removed]",
      "text/plain": [
       "<Figure size 432x288 with 1 Axes>"
      ]
     },
     "metadata": {
      "needs_background": "light"
     },
     "output_type": "display_data"
    }
   ],
   "source": [
    "from sklearn import metrics\n",
    "from sklearn.neighbors import NearestNeighbors\n",
    "\n",
    "parking_min_bikes = 50\n",
    "min_neighbors = 50\n",
    "nbrs = NearestNeighbors(n_neighbors=parking_min_bikes).fit(coordinate_data)  # 找到距离最近的50个点\n",
    "distances, indices = nbrs.kneighbors(coordinate_data)  # 计算每个点最近的50个点的距离\n",
    "dist = distances[:, (min_neighbors-1)]\n",
    "dist_ = np.sort(dist)\n",
    "plt.plot(dist_)"
   ]
  },
  {
   "cell_type": "code",
   "execution_count": 53,
   "id": "462791bf",
   "metadata": {},
   "outputs": [
    {
     "name": "stdout",
     "output_type": "stream",
     "text": [
      "count:\n",
      "8      28272\n",
      "10     11845\n",
      "9      11539\n",
      "22      7828\n",
      "11      6147\n",
      "       ...  \n",
      "88       102\n",
      "66        74\n",
      "105       67\n",
      "85        59\n",
      "90        57\n",
      "Length: 112, dtype: int64\n",
      "DBI=0.5711242286299573\n"
     ]
    },
    {
     "data": {
      "image/png": "[encoded data removed]",
      "text/plain": [
       "<Figure size 800x600 with 1 Axes>"
      ]
     },
     "metadata": {
      "needs_background": "light"
     },
     "output_type": "display_data"
    }
   ],
   "source": [
    "mdl_dbscan = cluster.DBSCAN(eps=0.004, min_samples=parking_min_bikes).fit(coordinate_data) # 聚类模型\n",
    "# 模型预测的结果有多少个类，每个类有多少个样本\n",
    "count = pd.Series(mdl_dbscan.labels_).value_counts()  # 展示有多少类，每类有多少个样本，即查看各个类别上的个数\n",
    "print('count:')\n",
    "print('{}'.format(count))\n",
    "\n",
    "plt.figure()\n",
    "plt.scatter(x='start_lon', y='start_lat', data=coordinate_data, c=mdl_dbscan.labels_)\n",
    "# 聚类模型有两种评价模型，一种是组内距离越小越好，一种是组间距离越大越好 （组：类别）\n",
    "DBI = metrics.davies_bouldin_score(coordinate_data, mdl_dbscan.labels_)\n",
    "print('DBI={}'.format(DBI)) # 聚类模型评价指标"
   ]
  },
  {
   "cell_type": "code",
   "execution_count": 58,
   "id": "166284d2",
   "metadata": {},
   "outputs": [],
   "source": [
    "cluster_cnt = 3\n",
    "\n",
    "from sklearn.cluster import KMeans\n",
    "# 模型建立(预估器流程)\n",
    "estimator = KMeans(n_clusters=cluster_cnt)\n",
    "mdl_kmeans = estimator.fit(coordinate_data)\n",
    "print(mdl_kmeans)"
   ]
  },
  {
   "cell_type": "code",
   "execution_count": 45,
   "id": "4ca9e73c",
   "metadata": {},
   "outputs": [
    {
     "name": "stdout",
     "output_type": "stream",
     "text": [
      "0    70632\n",
      "1    64305\n",
      "2    19052\n",
      "dtype: int64\n"
     ]
    }
   ],
   "source": [
    "# 统计每个类的个数\n",
    "count2 = pd.Series(mdl_kmeans.labels_).value_counts()\n",
    "print(count2)"
   ]
  },
  {
   "cell_type": "code",
   "execution_count": 46,
   "id": "c4daa0b9",
   "metadata": {},
   "outputs": [
    {
     "name": "stdout",
     "output_type": "stream",
     "text": [
      "    start_lon  start_lat\n",
      "0 -118.257872  34.046162\n",
      "1 -118.454210  33.994614\n",
      "2 -118.300176  34.088188\n"
     ]
    }
   ],
   "source": [
    "# 每个类中的坐标\n",
    "km_centor = pd.DataFrame(mdl_kmeans.cluster_centers_, columns=['start_lon','start_lat'])\n",
    "print(km_centor)"
   ]
  },
  {
   "cell_type": "code",
   "execution_count": 47,
   "id": "09e759d9",
   "metadata": {},
   "outputs": [
    {
     "data": {
      "text/plain": [
       "array([[-118.25787229,   34.04616221],\n",
       "       [-118.45421036,   33.99461444],\n",
       "       [-118.30017626,   34.08818783]])"
      ]
     },
     "execution_count": 47,
     "metadata": {},
     "output_type": "execute_result"
    }
   ],
   "source": [
    "# 类中心\n",
    "mdl_kmeans.cluster_centers_"
   ]
  },
  {
   "cell_type": "code",
   "execution_count": 48,
   "id": "39133f9d",
   "metadata": {},
   "outputs": [
    {
     "name": "stdout",
     "output_type": "stream",
     "text": [
      "[-118.25787229   34.04616221]\n",
      "[-118.45421036   33.99461444]\n",
      "[-118.30017626   34.08818783]\n"
     ]
    }
   ],
   "source": [
    "# 数量最多的十个类中心点\n",
    "center_10=list(count2.index[:10])\n",
    "center_10_cordinate=[]\n",
    "for index in center_10:\n",
    "    cordinate=mdl_kmeans.cluster_centers_[index]\n",
    "    print(cordinate)\n",
    "    center_10_cordinate.append(cordinate)"
   ]
  },
  {
   "cell_type": "code",
   "execution_count": 49,
   "id": "ee503143",
   "metadata": {},
   "outputs": [
    {
     "data": {
      "text/plain": [
       "<matplotlib.collections.PathCollection at 0x12cea2160>"
      ]
     },
     "execution_count": 49,
     "metadata": {},
     "output_type": "execute_result"
    },
    {
     "data": {
      "image/png": "[encoded data removed]",
      "text/plain": [
       "<Figure size 800x600 with 1 Axes>"
      ]
     },
     "metadata": {
      "needs_background": "light"
     },
     "output_type": "display_data"
    }
   ],
   "source": [
    "plt.rcParams['savefig.dpi'] = 300 # 像素\n",
    "plt.rcParams['figure.dpi'] = 100 # 分辨率\n",
    "plt.rcParams['figure.figsize']=(8.0, 6.0) # 图片大小比例\n",
    "plt.figure()\n",
    "plt.scatter(x='start_lon', y='start_lat', data=coordinate_data, c=mdl_kmeans.labels_, s=0.5) \n",
    "plt.scatter(x='start_lon', y='start_lat', data=km_centor, c='k', s=4)\n",
    "plt.scatter(x='start_lon', y='start_lat', data=center_10_cordinate, c='r', marker='*', s=20)\n",
    "# plt.savefig('mobike.png')"
   ]
  },
  {
   "cell_type": "code",
   "execution_count": 59,
   "id": "6ecc64a1",
   "metadata": {},
   "outputs": [],
   "source": [
    "y_predict = estimator.predict(coordinate_data)"
   ]
  },
  {
   "cell_type": "code",
   "execution_count": 60,
   "id": "938a2faa",
   "metadata": {},
   "outputs": [
    {
     "data": {
      "text/plain": [
       "array([2, 2, 1, 0, 1, 1, 1, 1, 0, 0, 1, 1, 2, 1, 2, 1, 1, 1, 2, 0, 2, 1,\n",
       "       2, 0, 2, 2, 2, 2, 1, 1, 2, 2, 1, 2, 2, 2, 1, 0, 1, 1, 1, 0, 2, 1,\n",
       "       2, 0, 1, 2, 1, 1, 0, 1, 2, 2, 2, 1, 1, 1, 1, 2, 2, 0, 1, 2, 2, 1,\n",
       "       2, 1, 1, 2, 2, 1, 1, 1, 1, 2, 2, 2, 2, 2, 2, 2, 2, 2, 0, 1, 1, 1,\n",
       "       1, 1, 2, 2, 1, 1, 1, 1, 2, 1, 1, 1, 2, 1, 2, 2, 2, 2, 2, 2, 2, 1,\n",
       "       1, 1, 1, 1, 2, 1, 1, 1, 0, 1, 0, 1, 1, 2, 0, 2, 1, 2, 2, 1, 2, 1,\n",
       "       1, 0, 0, 0, 2, 2, 2, 0, 1, 2, 0, 1, 2, 2, 1, 2, 1, 1, 1, 1, 2, 1,\n",
       "       0, 1, 1, 1, 1, 1, 1, 1, 1, 1, 0, 1, 0, 1, 1, 1, 2, 2, 2, 1, 2, 2,\n",
       "       2, 1, 2, 1, 2, 2, 1, 2, 1, 1, 0, 1, 1, 1, 2, 1, 1, 1, 1, 1, 1, 2,\n",
       "       2, 1, 1, 1, 1, 1, 2, 2, 0, 1, 0, 2, 2, 1, 2, 1, 2, 2, 1, 2, 1, 2,\n",
       "       2, 2, 2, 2, 2, 2, 0, 2, 2, 2, 2, 1, 1, 2, 2, 2, 2, 1, 0, 1, 2, 2,\n",
       "       2, 2, 2, 2, 2, 1, 1, 0, 2, 1, 0, 1, 2, 1, 2, 2, 2, 0, 0, 2, 2, 1,\n",
       "       2, 1, 2, 0, 1, 1, 2, 2, 2, 2, 1, 1, 0, 1, 2, 2, 2, 1, 0, 2, 1, 1,\n",
       "       0, 2, 1, 1, 1, 1, 1, 1, 1, 1, 1, 2, 1, 1], dtype=int32)"
      ]
     },
     "execution_count": 60,
     "metadata": {},
     "output_type": "execute_result"
    }
   ],
   "source": [
    "y_predict[:300]"
   ]
  },
  {
   "cell_type": "code",
   "execution_count": 63,
   "id": "d2e88905",
   "metadata": {},
   "outputs": [
    {
     "name": "stdout",
     "output_type": "stream",
     "text": [
      "0.6484679560485825\n"
     ]
    }
   ],
   "source": [
    "# 模型评估-轮廓系数\n",
    "from sklearn.metrics import silhouette_score\n",
    "ss = silhouette_score(coordinate_data, y_predict) # params: 特征，标记结果\n",
    "print(ss)"
   ]
  },
  {
   "cell_type": "code",
   "execution_count": null,
   "id": "9ecf665f",
   "metadata": {},
   "outputs": [],
   "source": []
  }
 ],
 "metadata": {
  "kernelspec": {
   "display_name": "Python 3 (ipykernel)",
   "language": "python",
   "name": "python3"
  },
  "language_info": {
   "codemirror_mode": {
    "name": "ipython",
    "version": 3
   },
   "file_extension": ".py",
   "mimetype": "text/x-python",
   "name": "python",
   "nbconvert_exporter": "python",
   "pygments_lexer": "ipython3",
   "version": "3.8.2"
  }
 },
 "nbformat": 4,
 "nbformat_minor": 5
}
